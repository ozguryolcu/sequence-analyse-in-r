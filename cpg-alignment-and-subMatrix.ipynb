{
 "cells": [
  {
   "cell_type": "code",
   "execution_count": null,
   "metadata": {
    "vscode": {
     "languageId": "r"
    }
   },
   "outputs": [],
   "source": [
    "x<-c(1,2,3,4,5)\n",
    "y<-c(2,3,4,5,6)\n",
    "\n",
    "plot(x,y)"
   ]
  },
  {
   "cell_type": "code",
   "execution_count": null,
   "metadata": {
    "vscode": {
     "languageId": "r"
    }
   },
   "outputs": [],
   "source": [
    "for (x in 1:50){\n",
    "    print(x)\n",
    "}"
   ]
  },
  {
   "cell_type": "code",
   "execution_count": 16,
   "metadata": {
    "vscode": {
     "languageId": "r"
    }
   },
   "outputs": [],
   "source": [
    "library(MASS)"
   ]
  },
  {
   "cell_type": "code",
   "execution_count": 17,
   "metadata": {
    "vscode": {
     "languageId": "r"
    }
   },
   "outputs": [
    {
     "data": {
      "text/html": [
       "<style>\n",
       ".list-inline {list-style: none; margin:0; padding: 0}\n",
       ".list-inline>li {display: inline-block}\n",
       ".list-inline>li:not(:last-child)::after {content: \"\\00b7\"; padding: 0 .5ex}\n",
       "</style>\n",
       "<ol class=list-inline><li>'abbey'</li><li>'accdeaths'</li><li>'addterm'</li><li>'Aids2'</li><li>'Animals'</li><li>'anorexia'</li><li>'area'</li><li>'as.fractions'</li><li>'bacteria'</li><li>'bandwidth.nrd'</li><li>'bcv'</li><li>'beav1'</li><li>'beav2'</li><li>'biopsy'</li><li>'birthwt'</li><li>'Boston'</li><li>'boxcox'</li><li>'cabbages'</li><li>'caith'</li><li>'Cars93'</li><li>'cats'</li><li>'cement'</li><li>'chem'</li><li>'con2tr'</li><li>'contr.sdif'</li><li>'coop'</li><li>'corresp'</li><li>'cov.mcd'</li><li>'cov.mve'</li><li>'cov.rob'</li><li>'cov.trob'</li><li>'cpus'</li><li>'crabs'</li><li>'Cushings'</li><li>'DDT'</li><li>'deaths'</li><li>'denumerate'</li><li>'dose.p'</li><li>'drivers'</li><li>'dropterm'</li><li>'eagles'</li><li>'enlist'</li><li>'epil'</li><li>'eqscplot'</li><li>'farms'</li><li>'fbeta'</li><li>'fgl'</li><li>'fitdistr'</li><li>'forbes'</li><li>'fractions'</li><li>'frequency.polygon'</li><li>'GAGurine'</li><li>'galaxies'</li><li>'gamma.dispersion'</li><li>'gamma.shape'</li><li>'gehan'</li><li>'genotype'</li><li>'geyser'</li><li>'gilgais'</li><li>'ginv'</li><li>'glm.convert'</li><li>'glm.nb'</li><li>'glmmPQL'</li><li>'hills'</li><li>'hist.FD'</li><li>'hist.scott'</li><li>'housing'</li><li>'huber'</li><li>'hubers'</li><li>'immer'</li><li>'Insurance'</li><li>'is.fractions'</li><li>'isoMDS'</li><li>'kde2d'</li><li>'lda'</li><li>'ldahist'</li><li>'leuk'</li><li>'lm.gls'</li><li>'lm.ridge'</li><li>'lmsreg'</li><li>'loglm'</li><li>'loglm1'</li><li>'logtrans'</li><li>'lqs'</li><li>'lqs.formula'</li><li>'ltsreg'</li><li>'mammals'</li><li>'mca'</li><li>'mcycle'</li><li>'Melanoma'</li><li>'menarche'</li><li>'michelson'</li><li>'minn38'</li><li>'motors'</li><li>'muscle'</li><li>'mvrnorm'</li><li>'nclass.freq'</li><li>'neg.bin'</li><li>'negative.binomial'</li><li>'negexp.SSival'</li><li>'newcomb'</li><li>'nlschools'</li><li>'npk'</li><li>'npr1'</li><li>'Null'</li><li>'oats'</li><li>'OME'</li><li>'painters'</li><li>'parcoord'</li><li>'petrol'</li><li>'phones'</li><li>'Pima.te'</li><li>'Pima.tr'</li><li>'Pima.tr2'</li><li>'polr'</li><li>'psi.bisquare'</li><li>'psi.hampel'</li><li>'psi.huber'</li><li>'qda'</li><li>'quine'</li><li>'Rabbit'</li><li>'rational'</li><li>'renumerate'</li><li>'rlm'</li><li>'rms.curv'</li><li>'rnegbin'</li><li>'road'</li><li>'rotifer'</li><li>'Rubber'</li><li>'sammon'</li><li>'select'</li><li>'Shepard'</li><li>'ships'</li><li>'shoes'</li><li>'shrimp'</li><li>'shuttle'</li><li>'Sitka'</li><li>'Sitka89'</li><li>'Skye'</li><li>'snails'</li><li>'SP500'</li><li>'stdres'</li><li>'steam'</li><li>'stepAIC'</li><li>'stormer'</li><li>'studres'</li><li>'survey'</li><li>'synth.te'</li><li>'synth.tr'</li><li>'theta.md'</li><li>'theta.ml'</li><li>'theta.mm'</li><li>'topo'</li><li>'Traffic'</li><li>'truehist'</li><li>'ucv'</li><li>'UScereal'</li><li>'UScrime'</li><li>'VA'</li><li>'waders'</li><li>'whiteside'</li><li>'width.SJ'</li><li>'write.matrix'</li><li>'wtloss'</li></ol>\n"
      ],
      "text/latex": [
       "\\begin{enumerate*}\n",
       "\\item 'abbey'\n",
       "\\item 'accdeaths'\n",
       "\\item 'addterm'\n",
       "\\item 'Aids2'\n",
       "\\item 'Animals'\n",
       "\\item 'anorexia'\n",
       "\\item 'area'\n",
       "\\item 'as.fractions'\n",
       "\\item 'bacteria'\n",
       "\\item 'bandwidth.nrd'\n",
       "\\item 'bcv'\n",
       "\\item 'beav1'\n",
       "\\item 'beav2'\n",
       "\\item 'biopsy'\n",
       "\\item 'birthwt'\n",
       "\\item 'Boston'\n",
       "\\item 'boxcox'\n",
       "\\item 'cabbages'\n",
       "\\item 'caith'\n",
       "\\item 'Cars93'\n",
       "\\item 'cats'\n",
       "\\item 'cement'\n",
       "\\item 'chem'\n",
       "\\item 'con2tr'\n",
       "\\item 'contr.sdif'\n",
       "\\item 'coop'\n",
       "\\item 'corresp'\n",
       "\\item 'cov.mcd'\n",
       "\\item 'cov.mve'\n",
       "\\item 'cov.rob'\n",
       "\\item 'cov.trob'\n",
       "\\item 'cpus'\n",
       "\\item 'crabs'\n",
       "\\item 'Cushings'\n",
       "\\item 'DDT'\n",
       "\\item 'deaths'\n",
       "\\item 'denumerate'\n",
       "\\item 'dose.p'\n",
       "\\item 'drivers'\n",
       "\\item 'dropterm'\n",
       "\\item 'eagles'\n",
       "\\item 'enlist'\n",
       "\\item 'epil'\n",
       "\\item 'eqscplot'\n",
       "\\item 'farms'\n",
       "\\item 'fbeta'\n",
       "\\item 'fgl'\n",
       "\\item 'fitdistr'\n",
       "\\item 'forbes'\n",
       "\\item 'fractions'\n",
       "\\item 'frequency.polygon'\n",
       "\\item 'GAGurine'\n",
       "\\item 'galaxies'\n",
       "\\item 'gamma.dispersion'\n",
       "\\item 'gamma.shape'\n",
       "\\item 'gehan'\n",
       "\\item 'genotype'\n",
       "\\item 'geyser'\n",
       "\\item 'gilgais'\n",
       "\\item 'ginv'\n",
       "\\item 'glm.convert'\n",
       "\\item 'glm.nb'\n",
       "\\item 'glmmPQL'\n",
       "\\item 'hills'\n",
       "\\item 'hist.FD'\n",
       "\\item 'hist.scott'\n",
       "\\item 'housing'\n",
       "\\item 'huber'\n",
       "\\item 'hubers'\n",
       "\\item 'immer'\n",
       "\\item 'Insurance'\n",
       "\\item 'is.fractions'\n",
       "\\item 'isoMDS'\n",
       "\\item 'kde2d'\n",
       "\\item 'lda'\n",
       "\\item 'ldahist'\n",
       "\\item 'leuk'\n",
       "\\item 'lm.gls'\n",
       "\\item 'lm.ridge'\n",
       "\\item 'lmsreg'\n",
       "\\item 'loglm'\n",
       "\\item 'loglm1'\n",
       "\\item 'logtrans'\n",
       "\\item 'lqs'\n",
       "\\item 'lqs.formula'\n",
       "\\item 'ltsreg'\n",
       "\\item 'mammals'\n",
       "\\item 'mca'\n",
       "\\item 'mcycle'\n",
       "\\item 'Melanoma'\n",
       "\\item 'menarche'\n",
       "\\item 'michelson'\n",
       "\\item 'minn38'\n",
       "\\item 'motors'\n",
       "\\item 'muscle'\n",
       "\\item 'mvrnorm'\n",
       "\\item 'nclass.freq'\n",
       "\\item 'neg.bin'\n",
       "\\item 'negative.binomial'\n",
       "\\item 'negexp.SSival'\n",
       "\\item 'newcomb'\n",
       "\\item 'nlschools'\n",
       "\\item 'npk'\n",
       "\\item 'npr1'\n",
       "\\item 'Null'\n",
       "\\item 'oats'\n",
       "\\item 'OME'\n",
       "\\item 'painters'\n",
       "\\item 'parcoord'\n",
       "\\item 'petrol'\n",
       "\\item 'phones'\n",
       "\\item 'Pima.te'\n",
       "\\item 'Pima.tr'\n",
       "\\item 'Pima.tr2'\n",
       "\\item 'polr'\n",
       "\\item 'psi.bisquare'\n",
       "\\item 'psi.hampel'\n",
       "\\item 'psi.huber'\n",
       "\\item 'qda'\n",
       "\\item 'quine'\n",
       "\\item 'Rabbit'\n",
       "\\item 'rational'\n",
       "\\item 'renumerate'\n",
       "\\item 'rlm'\n",
       "\\item 'rms.curv'\n",
       "\\item 'rnegbin'\n",
       "\\item 'road'\n",
       "\\item 'rotifer'\n",
       "\\item 'Rubber'\n",
       "\\item 'sammon'\n",
       "\\item 'select'\n",
       "\\item 'Shepard'\n",
       "\\item 'ships'\n",
       "\\item 'shoes'\n",
       "\\item 'shrimp'\n",
       "\\item 'shuttle'\n",
       "\\item 'Sitka'\n",
       "\\item 'Sitka89'\n",
       "\\item 'Skye'\n",
       "\\item 'snails'\n",
       "\\item 'SP500'\n",
       "\\item 'stdres'\n",
       "\\item 'steam'\n",
       "\\item 'stepAIC'\n",
       "\\item 'stormer'\n",
       "\\item 'studres'\n",
       "\\item 'survey'\n",
       "\\item 'synth.te'\n",
       "\\item 'synth.tr'\n",
       "\\item 'theta.md'\n",
       "\\item 'theta.ml'\n",
       "\\item 'theta.mm'\n",
       "\\item 'topo'\n",
       "\\item 'Traffic'\n",
       "\\item 'truehist'\n",
       "\\item 'ucv'\n",
       "\\item 'UScereal'\n",
       "\\item 'UScrime'\n",
       "\\item 'VA'\n",
       "\\item 'waders'\n",
       "\\item 'whiteside'\n",
       "\\item 'width.SJ'\n",
       "\\item 'write.matrix'\n",
       "\\item 'wtloss'\n",
       "\\end{enumerate*}\n"
      ],
      "text/markdown": [
       "1. 'abbey'\n",
       "2. 'accdeaths'\n",
       "3. 'addterm'\n",
       "4. 'Aids2'\n",
       "5. 'Animals'\n",
       "6. 'anorexia'\n",
       "7. 'area'\n",
       "8. 'as.fractions'\n",
       "9. 'bacteria'\n",
       "10. 'bandwidth.nrd'\n",
       "11. 'bcv'\n",
       "12. 'beav1'\n",
       "13. 'beav2'\n",
       "14. 'biopsy'\n",
       "15. 'birthwt'\n",
       "16. 'Boston'\n",
       "17. 'boxcox'\n",
       "18. 'cabbages'\n",
       "19. 'caith'\n",
       "20. 'Cars93'\n",
       "21. 'cats'\n",
       "22. 'cement'\n",
       "23. 'chem'\n",
       "24. 'con2tr'\n",
       "25. 'contr.sdif'\n",
       "26. 'coop'\n",
       "27. 'corresp'\n",
       "28. 'cov.mcd'\n",
       "29. 'cov.mve'\n",
       "30. 'cov.rob'\n",
       "31. 'cov.trob'\n",
       "32. 'cpus'\n",
       "33. 'crabs'\n",
       "34. 'Cushings'\n",
       "35. 'DDT'\n",
       "36. 'deaths'\n",
       "37. 'denumerate'\n",
       "38. 'dose.p'\n",
       "39. 'drivers'\n",
       "40. 'dropterm'\n",
       "41. 'eagles'\n",
       "42. 'enlist'\n",
       "43. 'epil'\n",
       "44. 'eqscplot'\n",
       "45. 'farms'\n",
       "46. 'fbeta'\n",
       "47. 'fgl'\n",
       "48. 'fitdistr'\n",
       "49. 'forbes'\n",
       "50. 'fractions'\n",
       "51. 'frequency.polygon'\n",
       "52. 'GAGurine'\n",
       "53. 'galaxies'\n",
       "54. 'gamma.dispersion'\n",
       "55. 'gamma.shape'\n",
       "56. 'gehan'\n",
       "57. 'genotype'\n",
       "58. 'geyser'\n",
       "59. 'gilgais'\n",
       "60. 'ginv'\n",
       "61. 'glm.convert'\n",
       "62. 'glm.nb'\n",
       "63. 'glmmPQL'\n",
       "64. 'hills'\n",
       "65. 'hist.FD'\n",
       "66. 'hist.scott'\n",
       "67. 'housing'\n",
       "68. 'huber'\n",
       "69. 'hubers'\n",
       "70. 'immer'\n",
       "71. 'Insurance'\n",
       "72. 'is.fractions'\n",
       "73. 'isoMDS'\n",
       "74. 'kde2d'\n",
       "75. 'lda'\n",
       "76. 'ldahist'\n",
       "77. 'leuk'\n",
       "78. 'lm.gls'\n",
       "79. 'lm.ridge'\n",
       "80. 'lmsreg'\n",
       "81. 'loglm'\n",
       "82. 'loglm1'\n",
       "83. 'logtrans'\n",
       "84. 'lqs'\n",
       "85. 'lqs.formula'\n",
       "86. 'ltsreg'\n",
       "87. 'mammals'\n",
       "88. 'mca'\n",
       "89. 'mcycle'\n",
       "90. 'Melanoma'\n",
       "91. 'menarche'\n",
       "92. 'michelson'\n",
       "93. 'minn38'\n",
       "94. 'motors'\n",
       "95. 'muscle'\n",
       "96. 'mvrnorm'\n",
       "97. 'nclass.freq'\n",
       "98. 'neg.bin'\n",
       "99. 'negative.binomial'\n",
       "100. 'negexp.SSival'\n",
       "101. 'newcomb'\n",
       "102. 'nlschools'\n",
       "103. 'npk'\n",
       "104. 'npr1'\n",
       "105. 'Null'\n",
       "106. 'oats'\n",
       "107. 'OME'\n",
       "108. 'painters'\n",
       "109. 'parcoord'\n",
       "110. 'petrol'\n",
       "111. 'phones'\n",
       "112. 'Pima.te'\n",
       "113. 'Pima.tr'\n",
       "114. 'Pima.tr2'\n",
       "115. 'polr'\n",
       "116. 'psi.bisquare'\n",
       "117. 'psi.hampel'\n",
       "118. 'psi.huber'\n",
       "119. 'qda'\n",
       "120. 'quine'\n",
       "121. 'Rabbit'\n",
       "122. 'rational'\n",
       "123. 'renumerate'\n",
       "124. 'rlm'\n",
       "125. 'rms.curv'\n",
       "126. 'rnegbin'\n",
       "127. 'road'\n",
       "128. 'rotifer'\n",
       "129. 'Rubber'\n",
       "130. 'sammon'\n",
       "131. 'select'\n",
       "132. 'Shepard'\n",
       "133. 'ships'\n",
       "134. 'shoes'\n",
       "135. 'shrimp'\n",
       "136. 'shuttle'\n",
       "137. 'Sitka'\n",
       "138. 'Sitka89'\n",
       "139. 'Skye'\n",
       "140. 'snails'\n",
       "141. 'SP500'\n",
       "142. 'stdres'\n",
       "143. 'steam'\n",
       "144. 'stepAIC'\n",
       "145. 'stormer'\n",
       "146. 'studres'\n",
       "147. 'survey'\n",
       "148. 'synth.te'\n",
       "149. 'synth.tr'\n",
       "150. 'theta.md'\n",
       "151. 'theta.ml'\n",
       "152. 'theta.mm'\n",
       "153. 'topo'\n",
       "154. 'Traffic'\n",
       "155. 'truehist'\n",
       "156. 'ucv'\n",
       "157. 'UScereal'\n",
       "158. 'UScrime'\n",
       "159. 'VA'\n",
       "160. 'waders'\n",
       "161. 'whiteside'\n",
       "162. 'width.SJ'\n",
       "163. 'write.matrix'\n",
       "164. 'wtloss'\n",
       "\n",
       "\n"
      ],
      "text/plain": [
       "  [1] \"abbey\"             \"accdeaths\"         \"addterm\"          \n",
       "  [4] \"Aids2\"             \"Animals\"           \"anorexia\"         \n",
       "  [7] \"area\"              \"as.fractions\"      \"bacteria\"         \n",
       " [10] \"bandwidth.nrd\"     \"bcv\"               \"beav1\"            \n",
       " [13] \"beav2\"             \"biopsy\"            \"birthwt\"          \n",
       " [16] \"Boston\"            \"boxcox\"            \"cabbages\"         \n",
       " [19] \"caith\"             \"Cars93\"            \"cats\"             \n",
       " [22] \"cement\"            \"chem\"              \"con2tr\"           \n",
       " [25] \"contr.sdif\"        \"coop\"              \"corresp\"          \n",
       " [28] \"cov.mcd\"           \"cov.mve\"           \"cov.rob\"          \n",
       " [31] \"cov.trob\"          \"cpus\"              \"crabs\"            \n",
       " [34] \"Cushings\"          \"DDT\"               \"deaths\"           \n",
       " [37] \"denumerate\"        \"dose.p\"            \"drivers\"          \n",
       " [40] \"dropterm\"          \"eagles\"            \"enlist\"           \n",
       " [43] \"epil\"              \"eqscplot\"          \"farms\"            \n",
       " [46] \"fbeta\"             \"fgl\"               \"fitdistr\"         \n",
       " [49] \"forbes\"            \"fractions\"         \"frequency.polygon\"\n",
       " [52] \"GAGurine\"          \"galaxies\"          \"gamma.dispersion\" \n",
       " [55] \"gamma.shape\"       \"gehan\"             \"genotype\"         \n",
       " [58] \"geyser\"            \"gilgais\"           \"ginv\"             \n",
       " [61] \"glm.convert\"       \"glm.nb\"            \"glmmPQL\"          \n",
       " [64] \"hills\"             \"hist.FD\"           \"hist.scott\"       \n",
       " [67] \"housing\"           \"huber\"             \"hubers\"           \n",
       " [70] \"immer\"             \"Insurance\"         \"is.fractions\"     \n",
       " [73] \"isoMDS\"            \"kde2d\"             \"lda\"              \n",
       " [76] \"ldahist\"           \"leuk\"              \"lm.gls\"           \n",
       " [79] \"lm.ridge\"          \"lmsreg\"            \"loglm\"            \n",
       " [82] \"loglm1\"            \"logtrans\"          \"lqs\"              \n",
       " [85] \"lqs.formula\"       \"ltsreg\"            \"mammals\"          \n",
       " [88] \"mca\"               \"mcycle\"            \"Melanoma\"         \n",
       " [91] \"menarche\"          \"michelson\"         \"minn38\"           \n",
       " [94] \"motors\"            \"muscle\"            \"mvrnorm\"          \n",
       " [97] \"nclass.freq\"       \"neg.bin\"           \"negative.binomial\"\n",
       "[100] \"negexp.SSival\"     \"newcomb\"           \"nlschools\"        \n",
       "[103] \"npk\"               \"npr1\"              \"Null\"             \n",
       "[106] \"oats\"              \"OME\"               \"painters\"         \n",
       "[109] \"parcoord\"          \"petrol\"            \"phones\"           \n",
       "[112] \"Pima.te\"           \"Pima.tr\"           \"Pima.tr2\"         \n",
       "[115] \"polr\"              \"psi.bisquare\"      \"psi.hampel\"       \n",
       "[118] \"psi.huber\"         \"qda\"               \"quine\"            \n",
       "[121] \"Rabbit\"            \"rational\"          \"renumerate\"       \n",
       "[124] \"rlm\"               \"rms.curv\"          \"rnegbin\"          \n",
       "[127] \"road\"              \"rotifer\"           \"Rubber\"           \n",
       "[130] \"sammon\"            \"select\"            \"Shepard\"          \n",
       "[133] \"ships\"             \"shoes\"             \"shrimp\"           \n",
       "[136] \"shuttle\"           \"Sitka\"             \"Sitka89\"          \n",
       "[139] \"Skye\"              \"snails\"            \"SP500\"            \n",
       "[142] \"stdres\"            \"steam\"             \"stepAIC\"          \n",
       "[145] \"stormer\"           \"studres\"           \"survey\"           \n",
       "[148] \"synth.te\"          \"synth.tr\"          \"theta.md\"         \n",
       "[151] \"theta.ml\"          \"theta.mm\"          \"topo\"             \n",
       "[154] \"Traffic\"           \"truehist\"          \"ucv\"              \n",
       "[157] \"UScereal\"          \"UScrime\"           \"VA\"               \n",
       "[160] \"waders\"            \"whiteside\"         \"width.SJ\"         \n",
       "[163] \"write.matrix\"      \"wtloss\"           "
      ]
     },
     "metadata": {},
     "output_type": "display_data"
    }
   ],
   "source": [
    "ls(\"package:MASS\")"
   ]
  },
  {
   "cell_type": "code",
   "execution_count": 18,
   "metadata": {
    "vscode": {
     "languageId": "r"
    }
   },
   "outputs": [],
   "source": [
    "chr <- c(\"chr1\",\"chr1\",\"chr2\",\"chr2\")\n",
    "strand <- c(\"-\",\"-\",\"+\",\"+\")\n",
    "start <- c(200,4000,100,400)\n",
    "end <- c(250,4100,200,450)"
   ]
  },
  {
   "cell_type": "code",
   "execution_count": 19,
   "metadata": {
    "vscode": {
     "languageId": "r"
    }
   },
   "outputs": [],
   "source": [
    "mydata <- data.frame(chr,strand,start,end)"
   ]
  },
  {
   "cell_type": "code",
   "execution_count": 20,
   "metadata": {
    "vscode": {
     "languageId": "r"
    }
   },
   "outputs": [
    {
     "data": {
      "text/html": [
       "<table class=\"dataframe\">\n",
       "<caption>A data.frame: 4 × 4</caption>\n",
       "<thead>\n",
       "\t<tr><th scope=col>chr</th><th scope=col>strand</th><th scope=col>start</th><th scope=col>end</th></tr>\n",
       "\t<tr><th scope=col>&lt;chr&gt;</th><th scope=col>&lt;chr&gt;</th><th scope=col>&lt;dbl&gt;</th><th scope=col>&lt;dbl&gt;</th></tr>\n",
       "</thead>\n",
       "<tbody>\n",
       "\t<tr><td>chr1</td><td>-</td><td> 200</td><td> 250</td></tr>\n",
       "\t<tr><td>chr1</td><td>-</td><td>4000</td><td>4100</td></tr>\n",
       "\t<tr><td>chr2</td><td>+</td><td> 100</td><td> 200</td></tr>\n",
       "\t<tr><td>chr2</td><td>+</td><td> 400</td><td> 450</td></tr>\n",
       "</tbody>\n",
       "</table>\n"
      ],
      "text/latex": [
       "A data.frame: 4 × 4\n",
       "\\begin{tabular}{llll}\n",
       " chr & strand & start & end\\\\\n",
       " <chr> & <chr> & <dbl> & <dbl>\\\\\n",
       "\\hline\n",
       "\t chr1 & - &  200 &  250\\\\\n",
       "\t chr1 & - & 4000 & 4100\\\\\n",
       "\t chr2 & + &  100 &  200\\\\\n",
       "\t chr2 & + &  400 &  450\\\\\n",
       "\\end{tabular}\n"
      ],
      "text/markdown": [
       "\n",
       "A data.frame: 4 × 4\n",
       "\n",
       "| chr &lt;chr&gt; | strand &lt;chr&gt; | start &lt;dbl&gt; | end &lt;dbl&gt; |\n",
       "|---|---|---|---|\n",
       "| chr1 | - |  200 |  250 |\n",
       "| chr1 | - | 4000 | 4100 |\n",
       "| chr2 | + |  100 |  200 |\n",
       "| chr2 | + |  400 |  450 |\n",
       "\n"
      ],
      "text/plain": [
       "  chr  strand start end \n",
       "1 chr1 -       200   250\n",
       "2 chr1 -      4000  4100\n",
       "3 chr2 +       100   200\n",
       "4 chr2 +       400   450"
      ]
     },
     "metadata": {},
     "output_type": "display_data"
    }
   ],
   "source": [
    "mydata"
   ]
  },
  {
   "cell_type": "code",
   "execution_count": 21,
   "metadata": {
    "vscode": {
     "languageId": "r"
    }
   },
   "outputs": [],
   "source": [
    "names(mydata) <- c(\"chromosome\", \"strand\", \"start_position\", \"end_position\")"
   ]
  },
  {
   "cell_type": "code",
   "execution_count": 22,
   "metadata": {
    "vscode": {
     "languageId": "r"
    }
   },
   "outputs": [
    {
     "data": {
      "text/html": [
       "<style>\n",
       ".list-inline {list-style: none; margin:0; padding: 0}\n",
       ".list-inline>li {display: inline-block}\n",
       ".list-inline>li:not(:last-child)::after {content: \"\\00b7\"; padding: 0 .5ex}\n",
       "</style>\n",
       "<ol class=list-inline><li>'chr1'</li><li>'chr1'</li><li>'chr2'</li><li>'chr2'</li></ol>\n"
      ],
      "text/latex": [
       "\\begin{enumerate*}\n",
       "\\item 'chr1'\n",
       "\\item 'chr1'\n",
       "\\item 'chr2'\n",
       "\\item 'chr2'\n",
       "\\end{enumerate*}\n"
      ],
      "text/markdown": [
       "1. 'chr1'\n",
       "2. 'chr1'\n",
       "3. 'chr2'\n",
       "4. 'chr2'\n",
       "\n",
       "\n"
      ],
      "text/plain": [
       "[1] \"chr1\" \"chr1\" \"chr2\" \"chr2\""
      ]
     },
     "metadata": {},
     "output_type": "display_data"
    }
   ],
   "source": [
    "mydata$chromosome"
   ]
  },
  {
   "cell_type": "code",
   "execution_count": 23,
   "metadata": {
    "vscode": {
     "languageId": "r"
    }
   },
   "outputs": [
    {
     "data": {
      "text/html": [
       "<table class=\"dataframe\">\n",
       "<caption>A data.frame: 4 × 2</caption>\n",
       "<thead>\n",
       "\t<tr><th scope=col>chromosome</th><th scope=col>start_position</th></tr>\n",
       "\t<tr><th scope=col>&lt;chr&gt;</th><th scope=col>&lt;dbl&gt;</th></tr>\n",
       "</thead>\n",
       "<tbody>\n",
       "\t<tr><td>chr1</td><td> 200</td></tr>\n",
       "\t<tr><td>chr1</td><td>4000</td></tr>\n",
       "\t<tr><td>chr2</td><td> 100</td></tr>\n",
       "\t<tr><td>chr2</td><td> 400</td></tr>\n",
       "</tbody>\n",
       "</table>\n"
      ],
      "text/latex": [
       "A data.frame: 4 × 2\n",
       "\\begin{tabular}{ll}\n",
       " chromosome & start\\_position\\\\\n",
       " <chr> & <dbl>\\\\\n",
       "\\hline\n",
       "\t chr1 &  200\\\\\n",
       "\t chr1 & 4000\\\\\n",
       "\t chr2 &  100\\\\\n",
       "\t chr2 &  400\\\\\n",
       "\\end{tabular}\n"
      ],
      "text/markdown": [
       "\n",
       "A data.frame: 4 × 2\n",
       "\n",
       "| chromosome &lt;chr&gt; | start_position &lt;dbl&gt; |\n",
       "|---|---|\n",
       "| chr1 |  200 |\n",
       "| chr1 | 4000 |\n",
       "| chr2 |  100 |\n",
       "| chr2 |  400 |\n",
       "\n"
      ],
      "text/plain": [
       "  chromosome start_position\n",
       "1 chr1        200          \n",
       "2 chr1       4000          \n",
       "3 chr2        100          \n",
       "4 chr2        400          "
      ]
     },
     "metadata": {},
     "output_type": "display_data"
    }
   ],
   "source": [
    "mydata[,c(1,3)]"
   ]
  },
  {
   "cell_type": "code",
   "execution_count": 24,
   "metadata": {
    "vscode": {
     "languageId": "r"
    }
   },
   "outputs": [
    {
     "data": {
      "text/html": [
       "<table class=\"dataframe\">\n",
       "<caption>A data.frame: 2 × 4</caption>\n",
       "<thead>\n",
       "\t<tr><th></th><th scope=col>chromosome</th><th scope=col>strand</th><th scope=col>start_position</th><th scope=col>end_position</th></tr>\n",
       "\t<tr><th></th><th scope=col>&lt;chr&gt;</th><th scope=col>&lt;chr&gt;</th><th scope=col>&lt;dbl&gt;</th><th scope=col>&lt;dbl&gt;</th></tr>\n",
       "</thead>\n",
       "<tbody>\n",
       "\t<tr><th scope=row>2</th><td>chr1</td><td>-</td><td>4000</td><td>4100</td></tr>\n",
       "\t<tr><th scope=row>4</th><td>chr2</td><td>+</td><td> 400</td><td> 450</td></tr>\n",
       "</tbody>\n",
       "</table>\n"
      ],
      "text/latex": [
       "A data.frame: 2 × 4\n",
       "\\begin{tabular}{r|llll}\n",
       "  & chromosome & strand & start\\_position & end\\_position\\\\\n",
       "  & <chr> & <chr> & <dbl> & <dbl>\\\\\n",
       "\\hline\n",
       "\t2 & chr1 & - & 4000 & 4100\\\\\n",
       "\t4 & chr2 & + &  400 &  450\\\\\n",
       "\\end{tabular}\n"
      ],
      "text/markdown": [
       "\n",
       "A data.frame: 2 × 4\n",
       "\n",
       "| <!--/--> | chromosome &lt;chr&gt; | strand &lt;chr&gt; | start_position &lt;dbl&gt; | end_position &lt;dbl&gt; |\n",
       "|---|---|---|---|---|\n",
       "| 2 | chr1 | - | 4000 | 4100 |\n",
       "| 4 | chr2 | + |  400 |  450 |\n",
       "\n"
      ],
      "text/plain": [
       "  chromosome strand start_position end_position\n",
       "2 chr1       -      4000           4100        \n",
       "4 chr2       +       400            450        "
      ]
     },
     "metadata": {},
     "output_type": "display_data"
    }
   ],
   "source": [
    "mydata[mydata$start_position > 200,]"
   ]
  },
  {
   "cell_type": "code",
   "execution_count": 25,
   "metadata": {
    "vscode": {
     "languageId": "r"
    }
   },
   "outputs": [],
   "source": [
    "enhancerFilePath <- system.file(\"extdata\",\n",
    "                                \"subset.enhancers.hg18.bed\",\n",
    "                                package = \"compGenomRData\")"
   ]
  },
  {
   "cell_type": "code",
   "execution_count": 28,
   "metadata": {
    "vscode": {
     "languageId": "r"
    }
   },
   "outputs": [
    {
     "name": "stderr",
     "output_type": "stream",
     "text": [
      "Warning message in file(file, \"rt\"):\n",
      "\"file(\"\") sadece open = \"w+\" ve open = \"w+b\" destekler: ilki kullanılıyor\"\n"
     ]
    },
    {
     "ename": "ERROR",
     "evalue": "Error in read.table(enhancerFilePath, header = FALSE): no lines available in input\n",
     "output_type": "error",
     "traceback": [
      "Error in read.table(enhancerFilePath, header = FALSE): no lines available in input\nTraceback:\n",
      "1. read.table(enhancerFilePath, header = FALSE)",
      "2. stop(\"no lines available in input\")"
     ]
    }
   ],
   "source": [
    "enh.df <- read.table(enhancerFilePath, header = FALSE)"
   ]
  },
  {
   "cell_type": "code",
   "execution_count": 29,
   "metadata": {
    "vscode": {
     "languageId": "r"
    }
   },
   "outputs": [],
   "source": [
    "cpgiFilePath <- system.file(\"extdata\",\n",
    "                            \"subset.cpgi.hg18.bed\",\n",
    "                            package = \"compGenomRData\")"
   ]
  },
  {
   "cell_type": "code",
   "execution_count": 30,
   "metadata": {
    "vscode": {
     "languageId": "r"
    }
   },
   "outputs": [
    {
     "data": {
      "text/html": [
       "''"
      ],
      "text/latex": [
       "''"
      ],
      "text/markdown": [
       "''"
      ],
      "text/plain": [
       "[1] \"\""
      ]
     },
     "metadata": {},
     "output_type": "display_data"
    }
   ],
   "source": [
    "cpgiFilePath"
   ]
  },
  {
   "cell_type": "code",
   "execution_count": 4,
   "metadata": {
    "vscode": {
     "languageId": "r"
    }
   },
   "outputs": [
    {
     "name": "stderr",
     "output_type": "stream",
     "text": [
      "Warning message:\n",
      "\"package 'R.utils' was built under R version 4.2.3\"\n"
     ]
    }
   ],
   "source": [
    "suppressPackageStartupMessages(library(\"R.utils\"))"
   ]
  },
  {
   "cell_type": "code",
   "execution_count": 5,
   "metadata": {
    "vscode": {
     "languageId": "r"
    }
   },
   "outputs": [
    {
     "name": "stderr",
     "output_type": "stream",
     "text": [
      "Warning message:\n",
      "\"package 'seqinr' was built under R version 4.2.3\"\n"
     ]
    }
   ],
   "source": [
    "suppressPackageStartupMessages(library(\"seqinr\"))"
   ]
  },
  {
   "cell_type": "code",
   "execution_count": 6,
   "metadata": {
    "vscode": {
     "languageId": "r"
    }
   },
   "outputs": [],
   "source": [
    "URL = \"http://ftp.ensemblgenomes.org/pub/bacteria/release-53/fasta/bacteria_0_collection/escherichia_coli_str_k_12_substr_mg1655_gca_000005845/cds/Escherichia_coli_str_k_12_substr_mg1655_gca_000005845.ASM584v2.cds.all.fa.gz\""
   ]
  },
  {
   "cell_type": "code",
   "execution_count": 7,
   "metadata": {
    "vscode": {
     "languageId": "r"
    }
   },
   "outputs": [],
   "source": [
    "unlink(\"ecoli_cds.fa.gz\")\n",
    "download.file(URL, destfile = \"ecoli_cds.fa.gz\")"
   ]
  },
  {
   "cell_type": "code",
   "execution_count": 35,
   "metadata": {
    "vscode": {
     "languageId": "r"
    }
   },
   "outputs": [
    {
     "ename": "ERROR",
     "evalue": "Error in decompressFile.default(filename = filename, ..., ext = ext, FUN = FUN): File already exists: ecoli_cds.fa\n",
     "output_type": "error",
     "traceback": [
      "Error in decompressFile.default(filename = filename, ..., ext = ext, FUN = FUN): File already exists: ecoli_cds.fa\nTraceback:\n",
      "1. gunzip(\"ecoli_cds.fa.gz\")",
      "2. gunzip.default(\"ecoli_cds.fa.gz\")",
      "3. decompressFile(filename = filename, ..., ext = ext, FUN = FUN)",
      "4. decompressFile.default(filename = filename, ..., ext = ext, FUN = FUN)",
      "5. stop(sprintf(\"File already exists: %s\", destname))"
     ]
    }
   ],
   "source": [
    "unlink(\"ecoli.cds.fa\")\n",
    "gunzip(\"ecoli_cds.fa.gz\")"
   ]
  },
  {
   "cell_type": "code",
   "execution_count": 8,
   "metadata": {
    "vscode": {
     "languageId": "r"
    }
   },
   "outputs": [],
   "source": [
    "cds <- seqinr::read.fasta(\"ecoli_cds.fa\")"
   ]
  },
  {
   "cell_type": "code",
   "execution_count": null,
   "metadata": {
    "vscode": {
     "languageId": "r"
    }
   },
   "outputs": [],
   "source": [
    "head(cds)"
   ]
  },
  {
   "cell_type": "code",
   "execution_count": 39,
   "metadata": {
    "vscode": {
     "languageId": "r"
    }
   },
   "outputs": [
    {
     "data": {
      "text/plain": [
       " [1] \"a\" \"t\" \"g\" \"a\" \"a\" \"a\" \"c\" \"g\" \"c\" \"a\" \"t\" \"t\" \"a\" \"g\" \"c\" \"a\" \"c\" \"c\" \"a\"\n",
       "[20] \"c\" \"c\" \"a\" \"t\" \"t\" \"a\" \"c\" \"c\" \"a\" \"c\" \"c\" \"a\" \"c\" \"c\" \"a\" \"t\" \"c\" \"a\" \"c\"\n",
       "[39] \"c\" \"a\" \"t\" \"t\" \"a\" \"c\" \"c\" \"a\" \"c\" \"a\" \"g\" \"g\" \"t\" \"a\" \"a\" \"c\" \"g\" \"g\" \"t\"\n",
       "[58] \"g\" \"c\" \"g\" \"g\" \"g\" \"c\" \"t\" \"g\" \"a\"\n",
       "attr(,\"name\")\n",
       "[1] \"AAC73112\"\n",
       "attr(,\"Annot\")\n",
       "[1] \">AAC73112 cds chromosome:ASM584v2:Chromosome:190:255:1 gene:b0001 gene_biotype:protein_coding transcript_biotype:protein_coding gene_symbol:thrL description:thr operon leader peptide\"\n",
       "attr(,\"class\")\n",
       "[1] \"SeqFastadna\""
      ]
     },
     "metadata": {},
     "output_type": "display_data"
    }
   ],
   "source": [
    "cds[[1]]"
   ]
  },
  {
   "cell_type": "code",
   "execution_count": 40,
   "metadata": {
    "vscode": {
     "languageId": "r"
    }
   },
   "outputs": [
    {
     "data": {
      "text/html": [
       "0.515151515151515"
      ],
      "text/latex": [
       "0.515151515151515"
      ],
      "text/markdown": [
       "0.515151515151515"
      ],
      "text/plain": [
       "[1] 0.5151515"
      ]
     },
     "metadata": {},
     "output_type": "display_data"
    }
   ],
   "source": [
    "GC(cds[[1]])"
   ]
  },
  {
   "cell_type": "code",
   "execution_count": 10,
   "metadata": {
    "vscode": {
     "languageId": "r"
    }
   },
   "outputs": [],
   "source": [
    "prot <- lapply(cds, translate)"
   ]
  },
  {
   "cell_type": "code",
   "execution_count": 11,
   "metadata": {
    "vscode": {
     "languageId": "r"
    }
   },
   "outputs": [],
   "source": [
    "aa <- unique(prot[[2]])\n",
    "aa <- aa[aa != \"*\"]"
   ]
  },
  {
   "cell_type": "code",
   "execution_count": null,
   "metadata": {
    "vscode": {
     "languageId": "r"
    }
   },
   "outputs": [],
   "source": [
    "# translate(), lapply "
   ]
  },
  {
   "cell_type": "code",
   "execution_count": null,
   "metadata": {
    "vscode": {
     "languageId": "r"
    }
   },
   "outputs": [],
   "source": [
    "# unique"
   ]
  },
  {
   "cell_type": "code",
   "execution_count": 15,
   "metadata": {
    "vscode": {
     "languageId": "r"
    }
   },
   "outputs": [
    {
     "data": {
      "text/plain": [
       "\n",
       " A  C  D  E  F  G  H  I  K  L  M  N  P  Q  R  S  T  V  W  Y \n",
       "91 12 44 53 30 63 14 46 34 89 23 38 29 30 46 51 34 69  4 20 "
      ]
     },
     "metadata": {},
     "output_type": "display_data"
    }
   ],
   "source": [
    "count(prot[[2]], wordsize=1, alphabet = aa)"
   ]
  },
  {
   "cell_type": "code",
   "execution_count": 13,
   "metadata": {
    "vscode": {
     "languageId": "r"
    }
   },
   "outputs": [
    {
     "data": {
      "text/html": [
       "<table class=\"dataframe\">\n",
       "<caption>A data.frame: 64 × 5</caption>\n",
       "<thead>\n",
       "\t<tr><th></th><th scope=col>AA</th><th scope=col>codon</th><th scope=col>eff</th><th scope=col>freq</th><th scope=col>RSCU</th></tr>\n",
       "\t<tr><th></th><th scope=col>&lt;fct&gt;</th><th scope=col>&lt;fct&gt;</th><th scope=col>&lt;int&gt;</th><th scope=col>&lt;dbl&gt;</th><th scope=col>&lt;dbl&gt;</th></tr>\n",
       "</thead>\n",
       "<tbody>\n",
       "\t<tr><th scope=row>aaa</th><td>Lys</td><td>aaa</td><td>22</td><td>0.026796590</td><td>1.29411765</td></tr>\n",
       "\t<tr><th scope=row>aac</th><td>Asn</td><td>aac</td><td>16</td><td>0.019488429</td><td>0.84210526</td></tr>\n",
       "\t<tr><th scope=row>aag</th><td>Lys</td><td>aag</td><td>12</td><td>0.014616322</td><td>0.70588235</td></tr>\n",
       "\t<tr><th scope=row>aat</th><td>Asn</td><td>aat</td><td>22</td><td>0.026796590</td><td>1.15789474</td></tr>\n",
       "\t<tr><th scope=row>aca</th><td>Thr</td><td>aca</td><td> 2</td><td>0.002436054</td><td>0.23529412</td></tr>\n",
       "\t<tr><th scope=row>acc</th><td>Thr</td><td>acc</td><td>19</td><td>0.023142509</td><td>2.23529412</td></tr>\n",
       "\t<tr><th scope=row>acg</th><td>Thr</td><td>acg</td><td> 8</td><td>0.009744214</td><td>0.94117647</td></tr>\n",
       "\t<tr><th scope=row>act</th><td>Thr</td><td>act</td><td> 5</td><td>0.006090134</td><td>0.58823529</td></tr>\n",
       "\t<tr><th scope=row>aga</th><td>Arg</td><td>aga</td><td> 0</td><td>0.000000000</td><td>0.00000000</td></tr>\n",
       "\t<tr><th scope=row>agc</th><td>Ser</td><td>agc</td><td>12</td><td>0.014616322</td><td>1.41176471</td></tr>\n",
       "\t<tr><th scope=row>agg</th><td>Arg</td><td>agg</td><td> 2</td><td>0.002436054</td><td>0.26086957</td></tr>\n",
       "\t<tr><th scope=row>agt</th><td>Ser</td><td>agt</td><td> 3</td><td>0.003654080</td><td>0.35294118</td></tr>\n",
       "\t<tr><th scope=row>ata</th><td>Ile</td><td>ata</td><td> 1</td><td>0.001218027</td><td>0.06521739</td></tr>\n",
       "\t<tr><th scope=row>atc</th><td>Ile</td><td>atc</td><td>15</td><td>0.018270402</td><td>0.97826087</td></tr>\n",
       "\t<tr><th scope=row>atg</th><td>Met</td><td>atg</td><td>23</td><td>0.028014616</td><td>1.00000000</td></tr>\n",
       "\t<tr><th scope=row>att</th><td>Ile</td><td>att</td><td>30</td><td>0.036540804</td><td>1.95652174</td></tr>\n",
       "\t<tr><th scope=row>caa</th><td>Gln</td><td>caa</td><td>11</td><td>0.013398295</td><td>0.73333333</td></tr>\n",
       "\t<tr><th scope=row>cac</th><td>His</td><td>cac</td><td> 6</td><td>0.007308161</td><td>0.85714286</td></tr>\n",
       "\t<tr><th scope=row>cag</th><td>Gln</td><td>cag</td><td>19</td><td>0.023142509</td><td>1.26666667</td></tr>\n",
       "\t<tr><th scope=row>cat</th><td>His</td><td>cat</td><td> 8</td><td>0.009744214</td><td>1.14285714</td></tr>\n",
       "\t<tr><th scope=row>cca</th><td>Pro</td><td>cca</td><td> 2</td><td>0.002436054</td><td>0.27586207</td></tr>\n",
       "\t<tr><th scope=row>ccc</th><td>Pro</td><td>ccc</td><td> 6</td><td>0.007308161</td><td>0.82758621</td></tr>\n",
       "\t<tr><th scope=row>ccg</th><td>Pro</td><td>ccg</td><td>18</td><td>0.021924482</td><td>2.48275862</td></tr>\n",
       "\t<tr><th scope=row>cct</th><td>Pro</td><td>cct</td><td> 3</td><td>0.003654080</td><td>0.41379310</td></tr>\n",
       "\t<tr><th scope=row>cga</th><td>Arg</td><td>cga</td><td> 3</td><td>0.003654080</td><td>0.39130435</td></tr>\n",
       "\t<tr><th scope=row>cgc</th><td>Arg</td><td>cgc</td><td>19</td><td>0.023142509</td><td>2.47826087</td></tr>\n",
       "\t<tr><th scope=row>cgg</th><td>Arg</td><td>cgg</td><td> 4</td><td>0.004872107</td><td>0.52173913</td></tr>\n",
       "\t<tr><th scope=row>cgt</th><td>Arg</td><td>cgt</td><td>18</td><td>0.021924482</td><td>2.34782609</td></tr>\n",
       "\t<tr><th scope=row>cta</th><td>Leu</td><td>cta</td><td> 2</td><td>0.002436054</td><td>0.13483146</td></tr>\n",
       "\t<tr><th scope=row>ctc</th><td>Leu</td><td>ctc</td><td>13</td><td>0.015834348</td><td>0.87640449</td></tr>\n",
       "\t<tr><th scope=row>⋮</th><td>⋮</td><td>⋮</td><td>⋮</td><td>⋮</td><td>⋮</td></tr>\n",
       "\t<tr><th scope=row>gag</th><td>Glu</td><td>gag</td><td>13</td><td>0.015834348</td><td>0.4905660</td></tr>\n",
       "\t<tr><th scope=row>gat</th><td>Asp</td><td>gat</td><td>30</td><td>0.036540804</td><td>1.3636364</td></tr>\n",
       "\t<tr><th scope=row>gca</th><td>Ala</td><td>gca</td><td>14</td><td>0.017052375</td><td>0.6153846</td></tr>\n",
       "\t<tr><th scope=row>gcc</th><td>Ala</td><td>gcc</td><td>36</td><td>0.043848965</td><td>1.5824176</td></tr>\n",
       "\t<tr><th scope=row>gcg</th><td>Ala</td><td>gcg</td><td>26</td><td>0.031668697</td><td>1.1428571</td></tr>\n",
       "\t<tr><th scope=row>gct</th><td>Ala</td><td>gct</td><td>15</td><td>0.018270402</td><td>0.6593407</td></tr>\n",
       "\t<tr><th scope=row>gga</th><td>Gly</td><td>gga</td><td> 9</td><td>0.010962241</td><td>0.5714286</td></tr>\n",
       "\t<tr><th scope=row>ggc</th><td>Gly</td><td>ggc</td><td>22</td><td>0.026796590</td><td>1.3968254</td></tr>\n",
       "\t<tr><th scope=row>ggg</th><td>Gly</td><td>ggg</td><td>10</td><td>0.012180268</td><td>0.6349206</td></tr>\n",
       "\t<tr><th scope=row>ggt</th><td>Gly</td><td>ggt</td><td>22</td><td>0.026796590</td><td>1.3968254</td></tr>\n",
       "\t<tr><th scope=row>gta</th><td>Val</td><td>gta</td><td> 5</td><td>0.006090134</td><td>0.2898551</td></tr>\n",
       "\t<tr><th scope=row>gtc</th><td>Val</td><td>gtc</td><td>18</td><td>0.021924482</td><td>1.0434783</td></tr>\n",
       "\t<tr><th scope=row>gtg</th><td>Val</td><td>gtg</td><td>27</td><td>0.032886724</td><td>1.5652174</td></tr>\n",
       "\t<tr><th scope=row>gtt</th><td>Val</td><td>gtt</td><td>19</td><td>0.023142509</td><td>1.1014493</td></tr>\n",
       "\t<tr><th scope=row>taa</th><td>Stp</td><td>taa</td><td> 0</td><td>0.000000000</td><td>0.0000000</td></tr>\n",
       "\t<tr><th scope=row>tac</th><td>Tyr</td><td>tac</td><td> 8</td><td>0.009744214</td><td>0.8000000</td></tr>\n",
       "\t<tr><th scope=row>tag</th><td>Stp</td><td>tag</td><td> 0</td><td>0.000000000</td><td>0.0000000</td></tr>\n",
       "\t<tr><th scope=row>tat</th><td>Tyr</td><td>tat</td><td>12</td><td>0.014616322</td><td>1.2000000</td></tr>\n",
       "\t<tr><th scope=row>tca</th><td>Ser</td><td>tca</td><td> 6</td><td>0.007308161</td><td>0.7058824</td></tr>\n",
       "\t<tr><th scope=row>tcc</th><td>Ser</td><td>tcc</td><td>10</td><td>0.012180268</td><td>1.1764706</td></tr>\n",
       "\t<tr><th scope=row>tcg</th><td>Ser</td><td>tcg</td><td> 9</td><td>0.010962241</td><td>1.0588235</td></tr>\n",
       "\t<tr><th scope=row>tct</th><td>Ser</td><td>tct</td><td>11</td><td>0.013398295</td><td>1.2941176</td></tr>\n",
       "\t<tr><th scope=row>tga</th><td>Stp</td><td>tga</td><td> 1</td><td>0.001218027</td><td>3.0000000</td></tr>\n",
       "\t<tr><th scope=row>tgc</th><td>Cys</td><td>tgc</td><td> 9</td><td>0.010962241</td><td>1.5000000</td></tr>\n",
       "\t<tr><th scope=row>tgg</th><td>Trp</td><td>tgg</td><td> 4</td><td>0.004872107</td><td>1.0000000</td></tr>\n",
       "\t<tr><th scope=row>tgt</th><td>Cys</td><td>tgt</td><td> 3</td><td>0.003654080</td><td>0.5000000</td></tr>\n",
       "\t<tr><th scope=row>tta</th><td>Leu</td><td>tta</td><td>10</td><td>0.012180268</td><td>0.6741573</td></tr>\n",
       "\t<tr><th scope=row>ttc</th><td>Phe</td><td>ttc</td><td>19</td><td>0.023142509</td><td>1.2666667</td></tr>\n",
       "\t<tr><th scope=row>ttg</th><td>Leu</td><td>ttg</td><td>13</td><td>0.015834348</td><td>0.8764045</td></tr>\n",
       "\t<tr><th scope=row>ttt</th><td>Phe</td><td>ttt</td><td>11</td><td>0.013398295</td><td>0.7333333</td></tr>\n",
       "</tbody>\n",
       "</table>\n"
      ],
      "text/latex": [
       "A data.frame: 64 × 5\n",
       "\\begin{tabular}{r|lllll}\n",
       "  & AA & codon & eff & freq & RSCU\\\\\n",
       "  & <fct> & <fct> & <int> & <dbl> & <dbl>\\\\\n",
       "\\hline\n",
       "\taaa & Lys & aaa & 22 & 0.026796590 & 1.29411765\\\\\n",
       "\taac & Asn & aac & 16 & 0.019488429 & 0.84210526\\\\\n",
       "\taag & Lys & aag & 12 & 0.014616322 & 0.70588235\\\\\n",
       "\taat & Asn & aat & 22 & 0.026796590 & 1.15789474\\\\\n",
       "\taca & Thr & aca &  2 & 0.002436054 & 0.23529412\\\\\n",
       "\tacc & Thr & acc & 19 & 0.023142509 & 2.23529412\\\\\n",
       "\tacg & Thr & acg &  8 & 0.009744214 & 0.94117647\\\\\n",
       "\tact & Thr & act &  5 & 0.006090134 & 0.58823529\\\\\n",
       "\taga & Arg & aga &  0 & 0.000000000 & 0.00000000\\\\\n",
       "\tagc & Ser & agc & 12 & 0.014616322 & 1.41176471\\\\\n",
       "\tagg & Arg & agg &  2 & 0.002436054 & 0.26086957\\\\\n",
       "\tagt & Ser & agt &  3 & 0.003654080 & 0.35294118\\\\\n",
       "\tata & Ile & ata &  1 & 0.001218027 & 0.06521739\\\\\n",
       "\tatc & Ile & atc & 15 & 0.018270402 & 0.97826087\\\\\n",
       "\tatg & Met & atg & 23 & 0.028014616 & 1.00000000\\\\\n",
       "\tatt & Ile & att & 30 & 0.036540804 & 1.95652174\\\\\n",
       "\tcaa & Gln & caa & 11 & 0.013398295 & 0.73333333\\\\\n",
       "\tcac & His & cac &  6 & 0.007308161 & 0.85714286\\\\\n",
       "\tcag & Gln & cag & 19 & 0.023142509 & 1.26666667\\\\\n",
       "\tcat & His & cat &  8 & 0.009744214 & 1.14285714\\\\\n",
       "\tcca & Pro & cca &  2 & 0.002436054 & 0.27586207\\\\\n",
       "\tccc & Pro & ccc &  6 & 0.007308161 & 0.82758621\\\\\n",
       "\tccg & Pro & ccg & 18 & 0.021924482 & 2.48275862\\\\\n",
       "\tcct & Pro & cct &  3 & 0.003654080 & 0.41379310\\\\\n",
       "\tcga & Arg & cga &  3 & 0.003654080 & 0.39130435\\\\\n",
       "\tcgc & Arg & cgc & 19 & 0.023142509 & 2.47826087\\\\\n",
       "\tcgg & Arg & cgg &  4 & 0.004872107 & 0.52173913\\\\\n",
       "\tcgt & Arg & cgt & 18 & 0.021924482 & 2.34782609\\\\\n",
       "\tcta & Leu & cta &  2 & 0.002436054 & 0.13483146\\\\\n",
       "\tctc & Leu & ctc & 13 & 0.015834348 & 0.87640449\\\\\n",
       "\t⋮ & ⋮ & ⋮ & ⋮ & ⋮ & ⋮\\\\\n",
       "\tgag & Glu & gag & 13 & 0.015834348 & 0.4905660\\\\\n",
       "\tgat & Asp & gat & 30 & 0.036540804 & 1.3636364\\\\\n",
       "\tgca & Ala & gca & 14 & 0.017052375 & 0.6153846\\\\\n",
       "\tgcc & Ala & gcc & 36 & 0.043848965 & 1.5824176\\\\\n",
       "\tgcg & Ala & gcg & 26 & 0.031668697 & 1.1428571\\\\\n",
       "\tgct & Ala & gct & 15 & 0.018270402 & 0.6593407\\\\\n",
       "\tgga & Gly & gga &  9 & 0.010962241 & 0.5714286\\\\\n",
       "\tggc & Gly & ggc & 22 & 0.026796590 & 1.3968254\\\\\n",
       "\tggg & Gly & ggg & 10 & 0.012180268 & 0.6349206\\\\\n",
       "\tggt & Gly & ggt & 22 & 0.026796590 & 1.3968254\\\\\n",
       "\tgta & Val & gta &  5 & 0.006090134 & 0.2898551\\\\\n",
       "\tgtc & Val & gtc & 18 & 0.021924482 & 1.0434783\\\\\n",
       "\tgtg & Val & gtg & 27 & 0.032886724 & 1.5652174\\\\\n",
       "\tgtt & Val & gtt & 19 & 0.023142509 & 1.1014493\\\\\n",
       "\ttaa & Stp & taa &  0 & 0.000000000 & 0.0000000\\\\\n",
       "\ttac & Tyr & tac &  8 & 0.009744214 & 0.8000000\\\\\n",
       "\ttag & Stp & tag &  0 & 0.000000000 & 0.0000000\\\\\n",
       "\ttat & Tyr & tat & 12 & 0.014616322 & 1.2000000\\\\\n",
       "\ttca & Ser & tca &  6 & 0.007308161 & 0.7058824\\\\\n",
       "\ttcc & Ser & tcc & 10 & 0.012180268 & 1.1764706\\\\\n",
       "\ttcg & Ser & tcg &  9 & 0.010962241 & 1.0588235\\\\\n",
       "\ttct & Ser & tct & 11 & 0.013398295 & 1.2941176\\\\\n",
       "\ttga & Stp & tga &  1 & 0.001218027 & 3.0000000\\\\\n",
       "\ttgc & Cys & tgc &  9 & 0.010962241 & 1.5000000\\\\\n",
       "\ttgg & Trp & tgg &  4 & 0.004872107 & 1.0000000\\\\\n",
       "\ttgt & Cys & tgt &  3 & 0.003654080 & 0.5000000\\\\\n",
       "\ttta & Leu & tta & 10 & 0.012180268 & 0.6741573\\\\\n",
       "\tttc & Phe & ttc & 19 & 0.023142509 & 1.2666667\\\\\n",
       "\tttg & Leu & ttg & 13 & 0.015834348 & 0.8764045\\\\\n",
       "\tttt & Phe & ttt & 11 & 0.013398295 & 0.7333333\\\\\n",
       "\\end{tabular}\n"
      ],
      "text/markdown": [
       "\n",
       "A data.frame: 64 × 5\n",
       "\n",
       "| <!--/--> | AA &lt;fct&gt; | codon &lt;fct&gt; | eff &lt;int&gt; | freq &lt;dbl&gt; | RSCU &lt;dbl&gt; |\n",
       "|---|---|---|---|---|---|\n",
       "| aaa | Lys | aaa | 22 | 0.026796590 | 1.29411765 |\n",
       "| aac | Asn | aac | 16 | 0.019488429 | 0.84210526 |\n",
       "| aag | Lys | aag | 12 | 0.014616322 | 0.70588235 |\n",
       "| aat | Asn | aat | 22 | 0.026796590 | 1.15789474 |\n",
       "| aca | Thr | aca |  2 | 0.002436054 | 0.23529412 |\n",
       "| acc | Thr | acc | 19 | 0.023142509 | 2.23529412 |\n",
       "| acg | Thr | acg |  8 | 0.009744214 | 0.94117647 |\n",
       "| act | Thr | act |  5 | 0.006090134 | 0.58823529 |\n",
       "| aga | Arg | aga |  0 | 0.000000000 | 0.00000000 |\n",
       "| agc | Ser | agc | 12 | 0.014616322 | 1.41176471 |\n",
       "| agg | Arg | agg |  2 | 0.002436054 | 0.26086957 |\n",
       "| agt | Ser | agt |  3 | 0.003654080 | 0.35294118 |\n",
       "| ata | Ile | ata |  1 | 0.001218027 | 0.06521739 |\n",
       "| atc | Ile | atc | 15 | 0.018270402 | 0.97826087 |\n",
       "| atg | Met | atg | 23 | 0.028014616 | 1.00000000 |\n",
       "| att | Ile | att | 30 | 0.036540804 | 1.95652174 |\n",
       "| caa | Gln | caa | 11 | 0.013398295 | 0.73333333 |\n",
       "| cac | His | cac |  6 | 0.007308161 | 0.85714286 |\n",
       "| cag | Gln | cag | 19 | 0.023142509 | 1.26666667 |\n",
       "| cat | His | cat |  8 | 0.009744214 | 1.14285714 |\n",
       "| cca | Pro | cca |  2 | 0.002436054 | 0.27586207 |\n",
       "| ccc | Pro | ccc |  6 | 0.007308161 | 0.82758621 |\n",
       "| ccg | Pro | ccg | 18 | 0.021924482 | 2.48275862 |\n",
       "| cct | Pro | cct |  3 | 0.003654080 | 0.41379310 |\n",
       "| cga | Arg | cga |  3 | 0.003654080 | 0.39130435 |\n",
       "| cgc | Arg | cgc | 19 | 0.023142509 | 2.47826087 |\n",
       "| cgg | Arg | cgg |  4 | 0.004872107 | 0.52173913 |\n",
       "| cgt | Arg | cgt | 18 | 0.021924482 | 2.34782609 |\n",
       "| cta | Leu | cta |  2 | 0.002436054 | 0.13483146 |\n",
       "| ctc | Leu | ctc | 13 | 0.015834348 | 0.87640449 |\n",
       "| ⋮ | ⋮ | ⋮ | ⋮ | ⋮ | ⋮ |\n",
       "| gag | Glu | gag | 13 | 0.015834348 | 0.4905660 |\n",
       "| gat | Asp | gat | 30 | 0.036540804 | 1.3636364 |\n",
       "| gca | Ala | gca | 14 | 0.017052375 | 0.6153846 |\n",
       "| gcc | Ala | gcc | 36 | 0.043848965 | 1.5824176 |\n",
       "| gcg | Ala | gcg | 26 | 0.031668697 | 1.1428571 |\n",
       "| gct | Ala | gct | 15 | 0.018270402 | 0.6593407 |\n",
       "| gga | Gly | gga |  9 | 0.010962241 | 0.5714286 |\n",
       "| ggc | Gly | ggc | 22 | 0.026796590 | 1.3968254 |\n",
       "| ggg | Gly | ggg | 10 | 0.012180268 | 0.6349206 |\n",
       "| ggt | Gly | ggt | 22 | 0.026796590 | 1.3968254 |\n",
       "| gta | Val | gta |  5 | 0.006090134 | 0.2898551 |\n",
       "| gtc | Val | gtc | 18 | 0.021924482 | 1.0434783 |\n",
       "| gtg | Val | gtg | 27 | 0.032886724 | 1.5652174 |\n",
       "| gtt | Val | gtt | 19 | 0.023142509 | 1.1014493 |\n",
       "| taa | Stp | taa |  0 | 0.000000000 | 0.0000000 |\n",
       "| tac | Tyr | tac |  8 | 0.009744214 | 0.8000000 |\n",
       "| tag | Stp | tag |  0 | 0.000000000 | 0.0000000 |\n",
       "| tat | Tyr | tat | 12 | 0.014616322 | 1.2000000 |\n",
       "| tca | Ser | tca |  6 | 0.007308161 | 0.7058824 |\n",
       "| tcc | Ser | tcc | 10 | 0.012180268 | 1.1764706 |\n",
       "| tcg | Ser | tcg |  9 | 0.010962241 | 1.0588235 |\n",
       "| tct | Ser | tct | 11 | 0.013398295 | 1.2941176 |\n",
       "| tga | Stp | tga |  1 | 0.001218027 | 3.0000000 |\n",
       "| tgc | Cys | tgc |  9 | 0.010962241 | 1.5000000 |\n",
       "| tgg | Trp | tgg |  4 | 0.004872107 | 1.0000000 |\n",
       "| tgt | Cys | tgt |  3 | 0.003654080 | 0.5000000 |\n",
       "| tta | Leu | tta | 10 | 0.012180268 | 0.6741573 |\n",
       "| ttc | Phe | ttc | 19 | 0.023142509 | 1.2666667 |\n",
       "| ttg | Leu | ttg | 13 | 0.015834348 | 0.8764045 |\n",
       "| ttt | Phe | ttt | 11 | 0.013398295 | 0.7333333 |\n",
       "\n"
      ],
      "text/plain": [
       "    AA  codon eff freq        RSCU      \n",
       "aaa Lys aaa   22  0.026796590 1.29411765\n",
       "aac Asn aac   16  0.019488429 0.84210526\n",
       "aag Lys aag   12  0.014616322 0.70588235\n",
       "aat Asn aat   22  0.026796590 1.15789474\n",
       "aca Thr aca    2  0.002436054 0.23529412\n",
       "acc Thr acc   19  0.023142509 2.23529412\n",
       "acg Thr acg    8  0.009744214 0.94117647\n",
       "act Thr act    5  0.006090134 0.58823529\n",
       "aga Arg aga    0  0.000000000 0.00000000\n",
       "agc Ser agc   12  0.014616322 1.41176471\n",
       "agg Arg agg    2  0.002436054 0.26086957\n",
       "agt Ser agt    3  0.003654080 0.35294118\n",
       "ata Ile ata    1  0.001218027 0.06521739\n",
       "atc Ile atc   15  0.018270402 0.97826087\n",
       "atg Met atg   23  0.028014616 1.00000000\n",
       "att Ile att   30  0.036540804 1.95652174\n",
       "caa Gln caa   11  0.013398295 0.73333333\n",
       "cac His cac    6  0.007308161 0.85714286\n",
       "cag Gln cag   19  0.023142509 1.26666667\n",
       "cat His cat    8  0.009744214 1.14285714\n",
       "cca Pro cca    2  0.002436054 0.27586207\n",
       "ccc Pro ccc    6  0.007308161 0.82758621\n",
       "ccg Pro ccg   18  0.021924482 2.48275862\n",
       "cct Pro cct    3  0.003654080 0.41379310\n",
       "cga Arg cga    3  0.003654080 0.39130435\n",
       "cgc Arg cgc   19  0.023142509 2.47826087\n",
       "cgg Arg cgg    4  0.004872107 0.52173913\n",
       "cgt Arg cgt   18  0.021924482 2.34782609\n",
       "cta Leu cta    2  0.002436054 0.13483146\n",
       "ctc Leu ctc   13  0.015834348 0.87640449\n",
       "⋮   ⋮   ⋮     ⋮   ⋮           ⋮         \n",
       "gag Glu gag   13  0.015834348 0.4905660 \n",
       "gat Asp gat   30  0.036540804 1.3636364 \n",
       "gca Ala gca   14  0.017052375 0.6153846 \n",
       "gcc Ala gcc   36  0.043848965 1.5824176 \n",
       "gcg Ala gcg   26  0.031668697 1.1428571 \n",
       "gct Ala gct   15  0.018270402 0.6593407 \n",
       "gga Gly gga    9  0.010962241 0.5714286 \n",
       "ggc Gly ggc   22  0.026796590 1.3968254 \n",
       "ggg Gly ggg   10  0.012180268 0.6349206 \n",
       "ggt Gly ggt   22  0.026796590 1.3968254 \n",
       "gta Val gta    5  0.006090134 0.2898551 \n",
       "gtc Val gtc   18  0.021924482 1.0434783 \n",
       "gtg Val gtg   27  0.032886724 1.5652174 \n",
       "gtt Val gtt   19  0.023142509 1.1014493 \n",
       "taa Stp taa    0  0.000000000 0.0000000 \n",
       "tac Tyr tac    8  0.009744214 0.8000000 \n",
       "tag Stp tag    0  0.000000000 0.0000000 \n",
       "tat Tyr tat   12  0.014616322 1.2000000 \n",
       "tca Ser tca    6  0.007308161 0.7058824 \n",
       "tcc Ser tcc   10  0.012180268 1.1764706 \n",
       "tcg Ser tcg    9  0.010962241 1.0588235 \n",
       "tct Ser tct   11  0.013398295 1.2941176 \n",
       "tga Stp tga    1  0.001218027 3.0000000 \n",
       "tgc Cys tgc    9  0.010962241 1.5000000 \n",
       "tgg Trp tgg    4  0.004872107 1.0000000 \n",
       "tgt Cys tgt    3  0.003654080 0.5000000 \n",
       "tta Leu tta   10  0.012180268 0.6741573 \n",
       "ttc Phe ttc   19  0.023142509 1.2666667 \n",
       "ttg Leu ttg   13  0.015834348 0.8764045 \n",
       "ttt Phe ttt   11  0.013398295 0.7333333 "
      ]
     },
     "metadata": {},
     "output_type": "display_data"
    }
   ],
   "source": [
    "uco(cds[[2]], index = \"rscu\", as.data.frame = TRUE)"
   ]
  },
  {
   "cell_type": "code",
   "execution_count": 1,
   "metadata": {
    "vscode": {
     "languageId": "r"
    }
   },
   "outputs": [
    {
     "data": {
      "text/html": [
       "'c:/Users/ozgur/Desktop/yazılım/VSCode'"
      ],
      "text/latex": [
       "'c:/Users/ozgur/Desktop/yazılım/VSCode'"
      ],
      "text/markdown": [
       "'c:/Users/ozgur/Desktop/yazılım/VSCode'"
      ],
      "text/plain": [
       "[1] \"c:/Users/ozgur/Desktop/yazılım/VSCode\""
      ]
     },
     "metadata": {},
     "output_type": "display_data"
    }
   ],
   "source": [
    "getwd()"
   ]
  },
  {
   "cell_type": "code",
   "execution_count": 3,
   "metadata": {
    "vscode": {
     "languageId": "r"
    }
   },
   "outputs": [
    {
     "name": "stderr",
     "output_type": "stream",
     "text": [
      "Warning message:\n",
      "\"package 'seqinr' was built under R version 4.2.3\"\n"
     ]
    }
   ],
   "source": [
    "library(seqinr)"
   ]
  },
  {
   "cell_type": "code",
   "execution_count": 38,
   "metadata": {
    "vscode": {
     "languageId": "r"
    }
   },
   "outputs": [],
   "source": [
    "ulcerans <- read.fasta(file = \"A0.fasta\")\n",
    "leprae <- read.fasta(file = \"Q9CD83.fasta\")"
   ]
  },
  {
   "cell_type": "code",
   "execution_count": 39,
   "metadata": {
    "vscode": {
     "languageId": "r"
    }
   },
   "outputs": [],
   "source": [
    "ulceransseq <- ulcerans[[1]]\n",
    "lepraeseq <- leprae[[1]]"
   ]
  },
  {
   "cell_type": "code",
   "execution_count": 40,
   "metadata": {
    "vscode": {
     "languageId": "r"
    }
   },
   "outputs": [],
   "source": [
    "choosebank(\"swissprot\")\n",
    "query(\"ulcerans\", \"AC=A0PQ23\")\n",
    "ulceransseq <- getSequence(ulceransseq)\n",
    "lepraeseq <- getSequence(lepraeseq)"
   ]
  },
  {
   "cell_type": "code",
   "execution_count": 41,
   "metadata": {
    "vscode": {
     "languageId": "r"
    }
   },
   "outputs": [
    {
     "data": {
      "text/html": [
       "<style>\n",
       ".list-inline {list-style: none; margin:0; padding: 0}\n",
       ".list-inline>li {display: inline-block}\n",
       ".list-inline>li:not(:last-child)::after {content: \"\\00b7\"; padding: 0 .5ex}\n",
       "</style>\n",
       "<ol class=list-inline><li>'m'</li><li>'t'</li><li>'n'</li><li>'r'</li><li>'t'</li><li>'l'</li><li>'s'</li><li>'r'</li><li>'e'</li><li>'e'</li><li>'i'</li><li>'r'</li><li>'k'</li><li>'l'</li><li>'d'</li><li>'r'</li><li>'d'</li><li>'l'</li><li>'r'</li><li>'i'</li><li>'l'</li><li>'v'</li><li>'a'</li><li>'t'</li><li>'n'</li><li>'g'</li><li>'t'</li><li>'l'</li><li>'t'</li><li>'r'</li><li>'v'</li><li>'l'</li><li>'n'</li><li>'v'</li><li>'v'</li><li>'a'</li><li>'n'</li><li>'e'</li><li>'e'</li><li>'i'</li><li>'v'</li><li>'v'</li><li>'d'</li><li>'i'</li><li>'i'</li><li>'n'</li><li>'q'</li><li>'q'</li><li>'l'</li><li>'l'</li><li>'d'</li><li>'v'</li><li>'a'</li><li>'p'</li><li>'k'</li><li>'i'</li><li>'p'</li><li>'e'</li><li>'l'</li><li>'e'</li><li>'n'</li><li>'l'</li><li>'k'</li><li>'i'</li><li>'g'</li><li>'r'</li><li>'i'</li><li>'l'</li><li>'q'</li><li>'r'</li><li>'d'</li><li>'i'</li><li>'l'</li><li>'l'</li><li>'k'</li><li>'g'</li><li>'q'</li><li>'k'</li><li>'s'</li><li>'g'</li><li>'i'</li><li>'l'</li><li>'f'</li><li>'v'</li><li>'a'</li><li>'a'</li><li>'e'</li><li>'s'</li><li>'l'</li><li>'i'</li><li>'v'</li><li>'i'</li><li>'d'</li><li>'l'</li><li>'l'</li><li>'p'</li><li>'t'</li><li>'a'</li><li>'i'</li><li>'t'</li><li>'t'</li><li>'y'</li><li>'l'</li><li>'t'</li><li>'k'</li><li>'t'</li><li>'h'</li><li>'h'</li><li>'p'</li><li>'i'</li><li>'g'</li><li>'e'</li><li>'i'</li><li>'m'</li><li>'a'</li><li>'a'</li><li>'s'</li><li>'r'</li><li>'i'</li><li>'e'</li><li>'t'</li><li>'y'</li><li>'k'</li><li>'e'</li><li>'d'</li><li>'a'</li><li>'q'</li><li>'v'</li><li>'w'</li><li>'i'</li><li>'g'</li><li>'d'</li><li>'l'</li><li>'p'</li><li>'c'</li><li>'w'</li><li>'l'</li><li>'a'</li><li>'d'</li><li>'y'</li><li>'g'</li><li>'y'</li><li>'w'</li><li>'d'</li><li>'l'</li><li>'p'</li><li>'k'</li><li>'r'</li><li>'a'</li><li>'v'</li><li>'g'</li><li>'r'</li><li>'r'</li><li>'y'</li><li>'r'</li><li>'i'</li><li>'i'</li><li>'a'</li><li>'g'</li><li>'g'</li><li>'q'</li><li>'p'</li><li>'v'</li><li>'i'</li><li>'i'</li><li>'t'</li><li>'t'</li><li>'e'</li><li>'y'</li><li>'f'</li><li>'l'</li><li>'r'</li><li>'s'</li><li>'v'</li><li>'f'</li><li>'q'</li><li>'d'</li><li>'t'</li><li>'p'</li><li>'r'</li><li>'e'</li><li>'e'</li><li>'l'</li><li>'d'</li><li>'r'</li><li>'c'</li><li>'q'</li><li>'y'</li><li>'s'</li><li>'n'</li><li>'d'</li><li>'i'</li><li>'d'</li><li>'t'</li><li>'r'</li><li>'s'</li><li>'g'</li><li>'d'</li><li>'r'</li><li>'f'</li><li>'v'</li><li>'l'</li><li>'h'</li><li>'g'</li><li>'r'</li><li>'v'</li><li>'f'</li><li>'k'</li><li>'n'</li><li>'l'</li></ol>\n"
      ],
      "text/latex": [
       "\\begin{enumerate*}\n",
       "\\item 'm'\n",
       "\\item 't'\n",
       "\\item 'n'\n",
       "\\item 'r'\n",
       "\\item 't'\n",
       "\\item 'l'\n",
       "\\item 's'\n",
       "\\item 'r'\n",
       "\\item 'e'\n",
       "\\item 'e'\n",
       "\\item 'i'\n",
       "\\item 'r'\n",
       "\\item 'k'\n",
       "\\item 'l'\n",
       "\\item 'd'\n",
       "\\item 'r'\n",
       "\\item 'd'\n",
       "\\item 'l'\n",
       "\\item 'r'\n",
       "\\item 'i'\n",
       "\\item 'l'\n",
       "\\item 'v'\n",
       "\\item 'a'\n",
       "\\item 't'\n",
       "\\item 'n'\n",
       "\\item 'g'\n",
       "\\item 't'\n",
       "\\item 'l'\n",
       "\\item 't'\n",
       "\\item 'r'\n",
       "\\item 'v'\n",
       "\\item 'l'\n",
       "\\item 'n'\n",
       "\\item 'v'\n",
       "\\item 'v'\n",
       "\\item 'a'\n",
       "\\item 'n'\n",
       "\\item 'e'\n",
       "\\item 'e'\n",
       "\\item 'i'\n",
       "\\item 'v'\n",
       "\\item 'v'\n",
       "\\item 'd'\n",
       "\\item 'i'\n",
       "\\item 'i'\n",
       "\\item 'n'\n",
       "\\item 'q'\n",
       "\\item 'q'\n",
       "\\item 'l'\n",
       "\\item 'l'\n",
       "\\item 'd'\n",
       "\\item 'v'\n",
       "\\item 'a'\n",
       "\\item 'p'\n",
       "\\item 'k'\n",
       "\\item 'i'\n",
       "\\item 'p'\n",
       "\\item 'e'\n",
       "\\item 'l'\n",
       "\\item 'e'\n",
       "\\item 'n'\n",
       "\\item 'l'\n",
       "\\item 'k'\n",
       "\\item 'i'\n",
       "\\item 'g'\n",
       "\\item 'r'\n",
       "\\item 'i'\n",
       "\\item 'l'\n",
       "\\item 'q'\n",
       "\\item 'r'\n",
       "\\item 'd'\n",
       "\\item 'i'\n",
       "\\item 'l'\n",
       "\\item 'l'\n",
       "\\item 'k'\n",
       "\\item 'g'\n",
       "\\item 'q'\n",
       "\\item 'k'\n",
       "\\item 's'\n",
       "\\item 'g'\n",
       "\\item 'i'\n",
       "\\item 'l'\n",
       "\\item 'f'\n",
       "\\item 'v'\n",
       "\\item 'a'\n",
       "\\item 'a'\n",
       "\\item 'e'\n",
       "\\item 's'\n",
       "\\item 'l'\n",
       "\\item 'i'\n",
       "\\item 'v'\n",
       "\\item 'i'\n",
       "\\item 'd'\n",
       "\\item 'l'\n",
       "\\item 'l'\n",
       "\\item 'p'\n",
       "\\item 't'\n",
       "\\item 'a'\n",
       "\\item 'i'\n",
       "\\item 't'\n",
       "\\item 't'\n",
       "\\item 'y'\n",
       "\\item 'l'\n",
       "\\item 't'\n",
       "\\item 'k'\n",
       "\\item 't'\n",
       "\\item 'h'\n",
       "\\item 'h'\n",
       "\\item 'p'\n",
       "\\item 'i'\n",
       "\\item 'g'\n",
       "\\item 'e'\n",
       "\\item 'i'\n",
       "\\item 'm'\n",
       "\\item 'a'\n",
       "\\item 'a'\n",
       "\\item 's'\n",
       "\\item 'r'\n",
       "\\item 'i'\n",
       "\\item 'e'\n",
       "\\item 't'\n",
       "\\item 'y'\n",
       "\\item 'k'\n",
       "\\item 'e'\n",
       "\\item 'd'\n",
       "\\item 'a'\n",
       "\\item 'q'\n",
       "\\item 'v'\n",
       "\\item 'w'\n",
       "\\item 'i'\n",
       "\\item 'g'\n",
       "\\item 'd'\n",
       "\\item 'l'\n",
       "\\item 'p'\n",
       "\\item 'c'\n",
       "\\item 'w'\n",
       "\\item 'l'\n",
       "\\item 'a'\n",
       "\\item 'd'\n",
       "\\item 'y'\n",
       "\\item 'g'\n",
       "\\item 'y'\n",
       "\\item 'w'\n",
       "\\item 'd'\n",
       "\\item 'l'\n",
       "\\item 'p'\n",
       "\\item 'k'\n",
       "\\item 'r'\n",
       "\\item 'a'\n",
       "\\item 'v'\n",
       "\\item 'g'\n",
       "\\item 'r'\n",
       "\\item 'r'\n",
       "\\item 'y'\n",
       "\\item 'r'\n",
       "\\item 'i'\n",
       "\\item 'i'\n",
       "\\item 'a'\n",
       "\\item 'g'\n",
       "\\item 'g'\n",
       "\\item 'q'\n",
       "\\item 'p'\n",
       "\\item 'v'\n",
       "\\item 'i'\n",
       "\\item 'i'\n",
       "\\item 't'\n",
       "\\item 't'\n",
       "\\item 'e'\n",
       "\\item 'y'\n",
       "\\item 'f'\n",
       "\\item 'l'\n",
       "\\item 'r'\n",
       "\\item 's'\n",
       "\\item 'v'\n",
       "\\item 'f'\n",
       "\\item 'q'\n",
       "\\item 'd'\n",
       "\\item 't'\n",
       "\\item 'p'\n",
       "\\item 'r'\n",
       "\\item 'e'\n",
       "\\item 'e'\n",
       "\\item 'l'\n",
       "\\item 'd'\n",
       "\\item 'r'\n",
       "\\item 'c'\n",
       "\\item 'q'\n",
       "\\item 'y'\n",
       "\\item 's'\n",
       "\\item 'n'\n",
       "\\item 'd'\n",
       "\\item 'i'\n",
       "\\item 'd'\n",
       "\\item 't'\n",
       "\\item 'r'\n",
       "\\item 's'\n",
       "\\item 'g'\n",
       "\\item 'd'\n",
       "\\item 'r'\n",
       "\\item 'f'\n",
       "\\item 'v'\n",
       "\\item 'l'\n",
       "\\item 'h'\n",
       "\\item 'g'\n",
       "\\item 'r'\n",
       "\\item 'v'\n",
       "\\item 'f'\n",
       "\\item 'k'\n",
       "\\item 'n'\n",
       "\\item 'l'\n",
       "\\end{enumerate*}\n"
      ],
      "text/markdown": [
       "1. 'm'\n",
       "2. 't'\n",
       "3. 'n'\n",
       "4. 'r'\n",
       "5. 't'\n",
       "6. 'l'\n",
       "7. 's'\n",
       "8. 'r'\n",
       "9. 'e'\n",
       "10. 'e'\n",
       "11. 'i'\n",
       "12. 'r'\n",
       "13. 'k'\n",
       "14. 'l'\n",
       "15. 'd'\n",
       "16. 'r'\n",
       "17. 'd'\n",
       "18. 'l'\n",
       "19. 'r'\n",
       "20. 'i'\n",
       "21. 'l'\n",
       "22. 'v'\n",
       "23. 'a'\n",
       "24. 't'\n",
       "25. 'n'\n",
       "26. 'g'\n",
       "27. 't'\n",
       "28. 'l'\n",
       "29. 't'\n",
       "30. 'r'\n",
       "31. 'v'\n",
       "32. 'l'\n",
       "33. 'n'\n",
       "34. 'v'\n",
       "35. 'v'\n",
       "36. 'a'\n",
       "37. 'n'\n",
       "38. 'e'\n",
       "39. 'e'\n",
       "40. 'i'\n",
       "41. 'v'\n",
       "42. 'v'\n",
       "43. 'd'\n",
       "44. 'i'\n",
       "45. 'i'\n",
       "46. 'n'\n",
       "47. 'q'\n",
       "48. 'q'\n",
       "49. 'l'\n",
       "50. 'l'\n",
       "51. 'd'\n",
       "52. 'v'\n",
       "53. 'a'\n",
       "54. 'p'\n",
       "55. 'k'\n",
       "56. 'i'\n",
       "57. 'p'\n",
       "58. 'e'\n",
       "59. 'l'\n",
       "60. 'e'\n",
       "61. 'n'\n",
       "62. 'l'\n",
       "63. 'k'\n",
       "64. 'i'\n",
       "65. 'g'\n",
       "66. 'r'\n",
       "67. 'i'\n",
       "68. 'l'\n",
       "69. 'q'\n",
       "70. 'r'\n",
       "71. 'd'\n",
       "72. 'i'\n",
       "73. 'l'\n",
       "74. 'l'\n",
       "75. 'k'\n",
       "76. 'g'\n",
       "77. 'q'\n",
       "78. 'k'\n",
       "79. 's'\n",
       "80. 'g'\n",
       "81. 'i'\n",
       "82. 'l'\n",
       "83. 'f'\n",
       "84. 'v'\n",
       "85. 'a'\n",
       "86. 'a'\n",
       "87. 'e'\n",
       "88. 's'\n",
       "89. 'l'\n",
       "90. 'i'\n",
       "91. 'v'\n",
       "92. 'i'\n",
       "93. 'd'\n",
       "94. 'l'\n",
       "95. 'l'\n",
       "96. 'p'\n",
       "97. 't'\n",
       "98. 'a'\n",
       "99. 'i'\n",
       "100. 't'\n",
       "101. 't'\n",
       "102. 'y'\n",
       "103. 'l'\n",
       "104. 't'\n",
       "105. 'k'\n",
       "106. 't'\n",
       "107. 'h'\n",
       "108. 'h'\n",
       "109. 'p'\n",
       "110. 'i'\n",
       "111. 'g'\n",
       "112. 'e'\n",
       "113. 'i'\n",
       "114. 'm'\n",
       "115. 'a'\n",
       "116. 'a'\n",
       "117. 's'\n",
       "118. 'r'\n",
       "119. 'i'\n",
       "120. 'e'\n",
       "121. 't'\n",
       "122. 'y'\n",
       "123. 'k'\n",
       "124. 'e'\n",
       "125. 'd'\n",
       "126. 'a'\n",
       "127. 'q'\n",
       "128. 'v'\n",
       "129. 'w'\n",
       "130. 'i'\n",
       "131. 'g'\n",
       "132. 'd'\n",
       "133. 'l'\n",
       "134. 'p'\n",
       "135. 'c'\n",
       "136. 'w'\n",
       "137. 'l'\n",
       "138. 'a'\n",
       "139. 'd'\n",
       "140. 'y'\n",
       "141. 'g'\n",
       "142. 'y'\n",
       "143. 'w'\n",
       "144. 'd'\n",
       "145. 'l'\n",
       "146. 'p'\n",
       "147. 'k'\n",
       "148. 'r'\n",
       "149. 'a'\n",
       "150. 'v'\n",
       "151. 'g'\n",
       "152. 'r'\n",
       "153. 'r'\n",
       "154. 'y'\n",
       "155. 'r'\n",
       "156. 'i'\n",
       "157. 'i'\n",
       "158. 'a'\n",
       "159. 'g'\n",
       "160. 'g'\n",
       "161. 'q'\n",
       "162. 'p'\n",
       "163. 'v'\n",
       "164. 'i'\n",
       "165. 'i'\n",
       "166. 't'\n",
       "167. 't'\n",
       "168. 'e'\n",
       "169. 'y'\n",
       "170. 'f'\n",
       "171. 'l'\n",
       "172. 'r'\n",
       "173. 's'\n",
       "174. 'v'\n",
       "175. 'f'\n",
       "176. 'q'\n",
       "177. 'd'\n",
       "178. 't'\n",
       "179. 'p'\n",
       "180. 'r'\n",
       "181. 'e'\n",
       "182. 'e'\n",
       "183. 'l'\n",
       "184. 'd'\n",
       "185. 'r'\n",
       "186. 'c'\n",
       "187. 'q'\n",
       "188. 'y'\n",
       "189. 's'\n",
       "190. 'n'\n",
       "191. 'd'\n",
       "192. 'i'\n",
       "193. 'd'\n",
       "194. 't'\n",
       "195. 'r'\n",
       "196. 's'\n",
       "197. 'g'\n",
       "198. 'd'\n",
       "199. 'r'\n",
       "200. 'f'\n",
       "201. 'v'\n",
       "202. 'l'\n",
       "203. 'h'\n",
       "204. 'g'\n",
       "205. 'r'\n",
       "206. 'v'\n",
       "207. 'f'\n",
       "208. 'k'\n",
       "209. 'n'\n",
       "210. 'l'\n",
       "\n",
       "\n"
      ],
      "text/plain": [
       "  [1] \"m\" \"t\" \"n\" \"r\" \"t\" \"l\" \"s\" \"r\" \"e\" \"e\" \"i\" \"r\" \"k\" \"l\" \"d\" \"r\" \"d\" \"l\"\n",
       " [19] \"r\" \"i\" \"l\" \"v\" \"a\" \"t\" \"n\" \"g\" \"t\" \"l\" \"t\" \"r\" \"v\" \"l\" \"n\" \"v\" \"v\" \"a\"\n",
       " [37] \"n\" \"e\" \"e\" \"i\" \"v\" \"v\" \"d\" \"i\" \"i\" \"n\" \"q\" \"q\" \"l\" \"l\" \"d\" \"v\" \"a\" \"p\"\n",
       " [55] \"k\" \"i\" \"p\" \"e\" \"l\" \"e\" \"n\" \"l\" \"k\" \"i\" \"g\" \"r\" \"i\" \"l\" \"q\" \"r\" \"d\" \"i\"\n",
       " [73] \"l\" \"l\" \"k\" \"g\" \"q\" \"k\" \"s\" \"g\" \"i\" \"l\" \"f\" \"v\" \"a\" \"a\" \"e\" \"s\" \"l\" \"i\"\n",
       " [91] \"v\" \"i\" \"d\" \"l\" \"l\" \"p\" \"t\" \"a\" \"i\" \"t\" \"t\" \"y\" \"l\" \"t\" \"k\" \"t\" \"h\" \"h\"\n",
       "[109] \"p\" \"i\" \"g\" \"e\" \"i\" \"m\" \"a\" \"a\" \"s\" \"r\" \"i\" \"e\" \"t\" \"y\" \"k\" \"e\" \"d\" \"a\"\n",
       "[127] \"q\" \"v\" \"w\" \"i\" \"g\" \"d\" \"l\" \"p\" \"c\" \"w\" \"l\" \"a\" \"d\" \"y\" \"g\" \"y\" \"w\" \"d\"\n",
       "[145] \"l\" \"p\" \"k\" \"r\" \"a\" \"v\" \"g\" \"r\" \"r\" \"y\" \"r\" \"i\" \"i\" \"a\" \"g\" \"g\" \"q\" \"p\"\n",
       "[163] \"v\" \"i\" \"i\" \"t\" \"t\" \"e\" \"y\" \"f\" \"l\" \"r\" \"s\" \"v\" \"f\" \"q\" \"d\" \"t\" \"p\" \"r\"\n",
       "[181] \"e\" \"e\" \"l\" \"d\" \"r\" \"c\" \"q\" \"y\" \"s\" \"n\" \"d\" \"i\" \"d\" \"t\" \"r\" \"s\" \"g\" \"d\"\n",
       "[199] \"r\" \"f\" \"v\" \"l\" \"h\" \"g\" \"r\" \"v\" \"f\" \"k\" \"n\" \"l\""
      ]
     },
     "metadata": {},
     "output_type": "display_data"
    }
   ],
   "source": [
    "lepraeseq"
   ]
  },
  {
   "cell_type": "code",
   "execution_count": 42,
   "metadata": {
    "vscode": {
     "languageId": "r"
    }
   },
   "outputs": [
    {
     "data": {
      "text/html": [
       "<style>\n",
       ".list-inline {list-style: none; margin:0; padding: 0}\n",
       ".list-inline>li {display: inline-block}\n",
       ".list-inline>li:not(:last-child)::after {content: \"\\00b7\"; padding: 0 .5ex}\n",
       "</style>\n",
       "<ol class=list-inline><li>'m'</li><li>'l'</li><li>'a'</li><li>'v'</li><li>'l'</li><li>'p'</li><li>'e'</li><li>'k'</li><li>'r'</li><li>'e'</li><li>'m'</li><li>'t'</li><li>'e'</li><li>'c'</li><li>'h'</li><li>'l'</li><li>'s'</li><li>'d'</li><li>'e'</li><li>'e'</li><li>'i'</li><li>'r'</li><li>'k'</li><li>'l'</li><li>'n'</li><li>'r'</li><li>'d'</li><li>'l'</li><li>'r'</li><li>'i'</li><li>'l'</li><li>'i'</li><li>'a'</li><li>'t'</li><li>'n'</li><li>'g'</li><li>'t'</li><li>'l'</li><li>'t'</li><li>'r'</li><li>'i'</li><li>'l'</li><li>'n'</li><li>'v'</li><li>'l'</li><li>'a'</li><li>'n'</li><li>'d'</li><li>'e'</li><li>'i'</li><li>'v'</li><li>'v'</li><li>'e'</li><li>'i'</li><li>'v'</li><li>'k'</li><li>'q'</li><li>'q'</li><li>'i'</li><li>'q'</li><li>'d'</li><li>'a'</li><li>'a'</li><li>'p'</li><li>'e'</li><li>'m'</li><li>'d'</li><li>'g'</li><li>'c'</li><li>'d'</li><li>'h'</li><li>'s'</li><li>'s'</li><li>'i'</li><li>'g'</li><li>'r'</li><li>'v'</li><li>'l'</li><li>'r'</li><li>'r'</li><li>'d'</li><li>'i'</li><li>'v'</li><li>'l'</li><li>'k'</li><li>'g'</li><li>'r'</li><li>'r'</li><li>'s'</li><li>'g'</li><li>'i'</li><li>'p'</li><li>'f'</li><li>'v'</li><li>'a'</li><li>'a'</li><li>'e'</li><li>'s'</li><li>'f'</li><li>'i'</li><li>'a'</li><li>'i'</li><li>'d'</li><li>'l'</li><li>'l'</li><li>'p'</li><li>'p'</li><li>'e'</li><li>'i'</li><li>'v'</li><li>'a'</li><li>'s'</li><li>'l'</li><li>'l'</li><li>'e'</li><li>'t'</li><li>'h'</li><li>'r'</li><li>'p'</li><li>'i'</li><li>'g'</li><li>'e'</li><li>'v'</li><li>'m'</li><li>'a'</li><li>'a'</li><li>'s'</li><li>'c'</li><li>'i'</li><li>'e'</li><li>'t'</li><li>'f'</li><li>'k'</li><li>'e'</li><li>'e'</li><li>'a'</li><li>'k'</li><li>'v'</li><li>'w'</li><li>'a'</li><li>'g'</li><li>'e'</li><li>'s'</li><li>'p'</li><li>'a'</li><li>'w'</li><li>'l'</li><li>'e'</li><li>'l'</li><li>'d'</li><li>'r'</li><li>'r'</li><li>'r'</li><li>'n'</li><li>'l'</li><li>'p'</li><li>'p'</li><li>'k'</li><li>'v'</li><li>'v'</li><li>'g'</li><li>'r'</li><li>'q'</li><li>'y'</li><li>'r'</li><li>'v'</li><li>'i'</li><li>'a'</li><li>'e'</li><li>'g'</li><li>'r'</li><li>'p'</li><li>'v'</li><li>'i'</li><li>'i'</li><li>'i'</li><li>'t'</li><li>'e'</li><li>'y'</li><li>'f'</li><li>'l'</li><li>'r'</li><li>'s'</li><li>'v'</li><li>'f'</li><li>'e'</li><li>'d'</li><li>'n'</li><li>'s'</li><li>'r'</li><li>'e'</li><li>'e'</li><li>'p'</li><li>'i'</li><li>'r'</li><li>'h'</li><li>'q'</li><li>'r'</li><li>'s'</li><li>'v'</li><li>'g'</li><li>'t'</li><li>'s'</li><li>'a'</li><li>'r'</li><li>'s'</li><li>'g'</li><li>'r'</li><li>'s'</li><li>'i'</li><li>'c'</li><li>'t'</li></ol>\n"
      ],
      "text/latex": [
       "\\begin{enumerate*}\n",
       "\\item 'm'\n",
       "\\item 'l'\n",
       "\\item 'a'\n",
       "\\item 'v'\n",
       "\\item 'l'\n",
       "\\item 'p'\n",
       "\\item 'e'\n",
       "\\item 'k'\n",
       "\\item 'r'\n",
       "\\item 'e'\n",
       "\\item 'm'\n",
       "\\item 't'\n",
       "\\item 'e'\n",
       "\\item 'c'\n",
       "\\item 'h'\n",
       "\\item 'l'\n",
       "\\item 's'\n",
       "\\item 'd'\n",
       "\\item 'e'\n",
       "\\item 'e'\n",
       "\\item 'i'\n",
       "\\item 'r'\n",
       "\\item 'k'\n",
       "\\item 'l'\n",
       "\\item 'n'\n",
       "\\item 'r'\n",
       "\\item 'd'\n",
       "\\item 'l'\n",
       "\\item 'r'\n",
       "\\item 'i'\n",
       "\\item 'l'\n",
       "\\item 'i'\n",
       "\\item 'a'\n",
       "\\item 't'\n",
       "\\item 'n'\n",
       "\\item 'g'\n",
       "\\item 't'\n",
       "\\item 'l'\n",
       "\\item 't'\n",
       "\\item 'r'\n",
       "\\item 'i'\n",
       "\\item 'l'\n",
       "\\item 'n'\n",
       "\\item 'v'\n",
       "\\item 'l'\n",
       "\\item 'a'\n",
       "\\item 'n'\n",
       "\\item 'd'\n",
       "\\item 'e'\n",
       "\\item 'i'\n",
       "\\item 'v'\n",
       "\\item 'v'\n",
       "\\item 'e'\n",
       "\\item 'i'\n",
       "\\item 'v'\n",
       "\\item 'k'\n",
       "\\item 'q'\n",
       "\\item 'q'\n",
       "\\item 'i'\n",
       "\\item 'q'\n",
       "\\item 'd'\n",
       "\\item 'a'\n",
       "\\item 'a'\n",
       "\\item 'p'\n",
       "\\item 'e'\n",
       "\\item 'm'\n",
       "\\item 'd'\n",
       "\\item 'g'\n",
       "\\item 'c'\n",
       "\\item 'd'\n",
       "\\item 'h'\n",
       "\\item 's'\n",
       "\\item 's'\n",
       "\\item 'i'\n",
       "\\item 'g'\n",
       "\\item 'r'\n",
       "\\item 'v'\n",
       "\\item 'l'\n",
       "\\item 'r'\n",
       "\\item 'r'\n",
       "\\item 'd'\n",
       "\\item 'i'\n",
       "\\item 'v'\n",
       "\\item 'l'\n",
       "\\item 'k'\n",
       "\\item 'g'\n",
       "\\item 'r'\n",
       "\\item 'r'\n",
       "\\item 's'\n",
       "\\item 'g'\n",
       "\\item 'i'\n",
       "\\item 'p'\n",
       "\\item 'f'\n",
       "\\item 'v'\n",
       "\\item 'a'\n",
       "\\item 'a'\n",
       "\\item 'e'\n",
       "\\item 's'\n",
       "\\item 'f'\n",
       "\\item 'i'\n",
       "\\item 'a'\n",
       "\\item 'i'\n",
       "\\item 'd'\n",
       "\\item 'l'\n",
       "\\item 'l'\n",
       "\\item 'p'\n",
       "\\item 'p'\n",
       "\\item 'e'\n",
       "\\item 'i'\n",
       "\\item 'v'\n",
       "\\item 'a'\n",
       "\\item 's'\n",
       "\\item 'l'\n",
       "\\item 'l'\n",
       "\\item 'e'\n",
       "\\item 't'\n",
       "\\item 'h'\n",
       "\\item 'r'\n",
       "\\item 'p'\n",
       "\\item 'i'\n",
       "\\item 'g'\n",
       "\\item 'e'\n",
       "\\item 'v'\n",
       "\\item 'm'\n",
       "\\item 'a'\n",
       "\\item 'a'\n",
       "\\item 's'\n",
       "\\item 'c'\n",
       "\\item 'i'\n",
       "\\item 'e'\n",
       "\\item 't'\n",
       "\\item 'f'\n",
       "\\item 'k'\n",
       "\\item 'e'\n",
       "\\item 'e'\n",
       "\\item 'a'\n",
       "\\item 'k'\n",
       "\\item 'v'\n",
       "\\item 'w'\n",
       "\\item 'a'\n",
       "\\item 'g'\n",
       "\\item 'e'\n",
       "\\item 's'\n",
       "\\item 'p'\n",
       "\\item 'a'\n",
       "\\item 'w'\n",
       "\\item 'l'\n",
       "\\item 'e'\n",
       "\\item 'l'\n",
       "\\item 'd'\n",
       "\\item 'r'\n",
       "\\item 'r'\n",
       "\\item 'r'\n",
       "\\item 'n'\n",
       "\\item 'l'\n",
       "\\item 'p'\n",
       "\\item 'p'\n",
       "\\item 'k'\n",
       "\\item 'v'\n",
       "\\item 'v'\n",
       "\\item 'g'\n",
       "\\item 'r'\n",
       "\\item 'q'\n",
       "\\item 'y'\n",
       "\\item 'r'\n",
       "\\item 'v'\n",
       "\\item 'i'\n",
       "\\item 'a'\n",
       "\\item 'e'\n",
       "\\item 'g'\n",
       "\\item 'r'\n",
       "\\item 'p'\n",
       "\\item 'v'\n",
       "\\item 'i'\n",
       "\\item 'i'\n",
       "\\item 'i'\n",
       "\\item 't'\n",
       "\\item 'e'\n",
       "\\item 'y'\n",
       "\\item 'f'\n",
       "\\item 'l'\n",
       "\\item 'r'\n",
       "\\item 's'\n",
       "\\item 'v'\n",
       "\\item 'f'\n",
       "\\item 'e'\n",
       "\\item 'd'\n",
       "\\item 'n'\n",
       "\\item 's'\n",
       "\\item 'r'\n",
       "\\item 'e'\n",
       "\\item 'e'\n",
       "\\item 'p'\n",
       "\\item 'i'\n",
       "\\item 'r'\n",
       "\\item 'h'\n",
       "\\item 'q'\n",
       "\\item 'r'\n",
       "\\item 's'\n",
       "\\item 'v'\n",
       "\\item 'g'\n",
       "\\item 't'\n",
       "\\item 's'\n",
       "\\item 'a'\n",
       "\\item 'r'\n",
       "\\item 's'\n",
       "\\item 'g'\n",
       "\\item 'r'\n",
       "\\item 's'\n",
       "\\item 'i'\n",
       "\\item 'c'\n",
       "\\item 't'\n",
       "\\end{enumerate*}\n"
      ],
      "text/markdown": [
       "1. 'm'\n",
       "2. 'l'\n",
       "3. 'a'\n",
       "4. 'v'\n",
       "5. 'l'\n",
       "6. 'p'\n",
       "7. 'e'\n",
       "8. 'k'\n",
       "9. 'r'\n",
       "10. 'e'\n",
       "11. 'm'\n",
       "12. 't'\n",
       "13. 'e'\n",
       "14. 'c'\n",
       "15. 'h'\n",
       "16. 'l'\n",
       "17. 's'\n",
       "18. 'd'\n",
       "19. 'e'\n",
       "20. 'e'\n",
       "21. 'i'\n",
       "22. 'r'\n",
       "23. 'k'\n",
       "24. 'l'\n",
       "25. 'n'\n",
       "26. 'r'\n",
       "27. 'd'\n",
       "28. 'l'\n",
       "29. 'r'\n",
       "30. 'i'\n",
       "31. 'l'\n",
       "32. 'i'\n",
       "33. 'a'\n",
       "34. 't'\n",
       "35. 'n'\n",
       "36. 'g'\n",
       "37. 't'\n",
       "38. 'l'\n",
       "39. 't'\n",
       "40. 'r'\n",
       "41. 'i'\n",
       "42. 'l'\n",
       "43. 'n'\n",
       "44. 'v'\n",
       "45. 'l'\n",
       "46. 'a'\n",
       "47. 'n'\n",
       "48. 'd'\n",
       "49. 'e'\n",
       "50. 'i'\n",
       "51. 'v'\n",
       "52. 'v'\n",
       "53. 'e'\n",
       "54. 'i'\n",
       "55. 'v'\n",
       "56. 'k'\n",
       "57. 'q'\n",
       "58. 'q'\n",
       "59. 'i'\n",
       "60. 'q'\n",
       "61. 'd'\n",
       "62. 'a'\n",
       "63. 'a'\n",
       "64. 'p'\n",
       "65. 'e'\n",
       "66. 'm'\n",
       "67. 'd'\n",
       "68. 'g'\n",
       "69. 'c'\n",
       "70. 'd'\n",
       "71. 'h'\n",
       "72. 's'\n",
       "73. 's'\n",
       "74. 'i'\n",
       "75. 'g'\n",
       "76. 'r'\n",
       "77. 'v'\n",
       "78. 'l'\n",
       "79. 'r'\n",
       "80. 'r'\n",
       "81. 'd'\n",
       "82. 'i'\n",
       "83. 'v'\n",
       "84. 'l'\n",
       "85. 'k'\n",
       "86. 'g'\n",
       "87. 'r'\n",
       "88. 'r'\n",
       "89. 's'\n",
       "90. 'g'\n",
       "91. 'i'\n",
       "92. 'p'\n",
       "93. 'f'\n",
       "94. 'v'\n",
       "95. 'a'\n",
       "96. 'a'\n",
       "97. 'e'\n",
       "98. 's'\n",
       "99. 'f'\n",
       "100. 'i'\n",
       "101. 'a'\n",
       "102. 'i'\n",
       "103. 'd'\n",
       "104. 'l'\n",
       "105. 'l'\n",
       "106. 'p'\n",
       "107. 'p'\n",
       "108. 'e'\n",
       "109. 'i'\n",
       "110. 'v'\n",
       "111. 'a'\n",
       "112. 's'\n",
       "113. 'l'\n",
       "114. 'l'\n",
       "115. 'e'\n",
       "116. 't'\n",
       "117. 'h'\n",
       "118. 'r'\n",
       "119. 'p'\n",
       "120. 'i'\n",
       "121. 'g'\n",
       "122. 'e'\n",
       "123. 'v'\n",
       "124. 'm'\n",
       "125. 'a'\n",
       "126. 'a'\n",
       "127. 's'\n",
       "128. 'c'\n",
       "129. 'i'\n",
       "130. 'e'\n",
       "131. 't'\n",
       "132. 'f'\n",
       "133. 'k'\n",
       "134. 'e'\n",
       "135. 'e'\n",
       "136. 'a'\n",
       "137. 'k'\n",
       "138. 'v'\n",
       "139. 'w'\n",
       "140. 'a'\n",
       "141. 'g'\n",
       "142. 'e'\n",
       "143. 's'\n",
       "144. 'p'\n",
       "145. 'a'\n",
       "146. 'w'\n",
       "147. 'l'\n",
       "148. 'e'\n",
       "149. 'l'\n",
       "150. 'd'\n",
       "151. 'r'\n",
       "152. 'r'\n",
       "153. 'r'\n",
       "154. 'n'\n",
       "155. 'l'\n",
       "156. 'p'\n",
       "157. 'p'\n",
       "158. 'k'\n",
       "159. 'v'\n",
       "160. 'v'\n",
       "161. 'g'\n",
       "162. 'r'\n",
       "163. 'q'\n",
       "164. 'y'\n",
       "165. 'r'\n",
       "166. 'v'\n",
       "167. 'i'\n",
       "168. 'a'\n",
       "169. 'e'\n",
       "170. 'g'\n",
       "171. 'r'\n",
       "172. 'p'\n",
       "173. 'v'\n",
       "174. 'i'\n",
       "175. 'i'\n",
       "176. 'i'\n",
       "177. 't'\n",
       "178. 'e'\n",
       "179. 'y'\n",
       "180. 'f'\n",
       "181. 'l'\n",
       "182. 'r'\n",
       "183. 's'\n",
       "184. 'v'\n",
       "185. 'f'\n",
       "186. 'e'\n",
       "187. 'd'\n",
       "188. 'n'\n",
       "189. 's'\n",
       "190. 'r'\n",
       "191. 'e'\n",
       "192. 'e'\n",
       "193. 'p'\n",
       "194. 'i'\n",
       "195. 'r'\n",
       "196. 'h'\n",
       "197. 'q'\n",
       "198. 'r'\n",
       "199. 's'\n",
       "200. 'v'\n",
       "201. 'g'\n",
       "202. 't'\n",
       "203. 's'\n",
       "204. 'a'\n",
       "205. 'r'\n",
       "206. 's'\n",
       "207. 'g'\n",
       "208. 'r'\n",
       "209. 's'\n",
       "210. 'i'\n",
       "211. 'c'\n",
       "212. 't'\n",
       "\n",
       "\n"
      ],
      "text/plain": [
       "  [1] \"m\" \"l\" \"a\" \"v\" \"l\" \"p\" \"e\" \"k\" \"r\" \"e\" \"m\" \"t\" \"e\" \"c\" \"h\" \"l\" \"s\" \"d\"\n",
       " [19] \"e\" \"e\" \"i\" \"r\" \"k\" \"l\" \"n\" \"r\" \"d\" \"l\" \"r\" \"i\" \"l\" \"i\" \"a\" \"t\" \"n\" \"g\"\n",
       " [37] \"t\" \"l\" \"t\" \"r\" \"i\" \"l\" \"n\" \"v\" \"l\" \"a\" \"n\" \"d\" \"e\" \"i\" \"v\" \"v\" \"e\" \"i\"\n",
       " [55] \"v\" \"k\" \"q\" \"q\" \"i\" \"q\" \"d\" \"a\" \"a\" \"p\" \"e\" \"m\" \"d\" \"g\" \"c\" \"d\" \"h\" \"s\"\n",
       " [73] \"s\" \"i\" \"g\" \"r\" \"v\" \"l\" \"r\" \"r\" \"d\" \"i\" \"v\" \"l\" \"k\" \"g\" \"r\" \"r\" \"s\" \"g\"\n",
       " [91] \"i\" \"p\" \"f\" \"v\" \"a\" \"a\" \"e\" \"s\" \"f\" \"i\" \"a\" \"i\" \"d\" \"l\" \"l\" \"p\" \"p\" \"e\"\n",
       "[109] \"i\" \"v\" \"a\" \"s\" \"l\" \"l\" \"e\" \"t\" \"h\" \"r\" \"p\" \"i\" \"g\" \"e\" \"v\" \"m\" \"a\" \"a\"\n",
       "[127] \"s\" \"c\" \"i\" \"e\" \"t\" \"f\" \"k\" \"e\" \"e\" \"a\" \"k\" \"v\" \"w\" \"a\" \"g\" \"e\" \"s\" \"p\"\n",
       "[145] \"a\" \"w\" \"l\" \"e\" \"l\" \"d\" \"r\" \"r\" \"r\" \"n\" \"l\" \"p\" \"p\" \"k\" \"v\" \"v\" \"g\" \"r\"\n",
       "[163] \"q\" \"y\" \"r\" \"v\" \"i\" \"a\" \"e\" \"g\" \"r\" \"p\" \"v\" \"i\" \"i\" \"i\" \"t\" \"e\" \"y\" \"f\"\n",
       "[181] \"l\" \"r\" \"s\" \"v\" \"f\" \"e\" \"d\" \"n\" \"s\" \"r\" \"e\" \"e\" \"p\" \"i\" \"r\" \"h\" \"q\" \"r\"\n",
       "[199] \"s\" \"v\" \"g\" \"t\" \"s\" \"a\" \"r\" \"s\" \"g\" \"r\" \"s\" \"i\" \"c\" \"t\""
      ]
     },
     "metadata": {},
     "output_type": "display_data"
    }
   ],
   "source": [
    "ulceransseq"
   ]
  },
  {
   "cell_type": "code",
   "execution_count": 44,
   "metadata": {
    "vscode": {
     "languageId": "r"
    }
   },
   "outputs": [
    {
     "data": {
      "image/png": "[encoded data removed]",
      "text/plain": [
       "plot without title"
      ]
     },
     "metadata": {
      "image/png": {
       "height": 420,
       "width": 420
      }
     },
     "output_type": "display_data"
    }
   ],
   "source": [
    "dotPlot(lepraeseq, ulceransseq)"
   ]
  },
  {
   "cell_type": "code",
   "execution_count": 45,
   "metadata": {
    "vscode": {
     "languageId": "r"
    }
   },
   "outputs": [],
   "source": [
    "# Needleman-Wunsch Algoritmasıyla Dizileri Eşleme (Global Alignment)"
   ]
  },
  {
   "cell_type": "code",
   "execution_count": 47,
   "metadata": {
    "vscode": {
     "languageId": "r"
    }
   },
   "outputs": [],
   "source": [
    "suppressPackageStartupMessages(library(Biostrings))"
   ]
  },
  {
   "cell_type": "code",
   "execution_count": 48,
   "metadata": {
    "vscode": {
     "languageId": "r"
    }
   },
   "outputs": [
    {
     "data": {
      "text/html": [
       "<table class=\"dataframe\">\n",
       "<caption>A matrix: 4 × 4 of type dbl</caption>\n",
       "<thead>\n",
       "\t<tr><th></th><th scope=col>A</th><th scope=col>C</th><th scope=col>G</th><th scope=col>T</th></tr>\n",
       "</thead>\n",
       "<tbody>\n",
       "\t<tr><th scope=row>A</th><td> 2</td><td>-1</td><td>-1</td><td>-1</td></tr>\n",
       "\t<tr><th scope=row>C</th><td>-1</td><td> 2</td><td>-1</td><td>-1</td></tr>\n",
       "\t<tr><th scope=row>G</th><td>-1</td><td>-1</td><td> 2</td><td>-1</td></tr>\n",
       "\t<tr><th scope=row>T</th><td>-1</td><td>-1</td><td>-1</td><td> 2</td></tr>\n",
       "</tbody>\n",
       "</table>\n"
      ],
      "text/latex": [
       "A matrix: 4 × 4 of type dbl\n",
       "\\begin{tabular}{r|llll}\n",
       "  & A & C & G & T\\\\\n",
       "\\hline\n",
       "\tA &  2 & -1 & -1 & -1\\\\\n",
       "\tC & -1 &  2 & -1 & -1\\\\\n",
       "\tG & -1 & -1 &  2 & -1\\\\\n",
       "\tT & -1 & -1 & -1 &  2\\\\\n",
       "\\end{tabular}\n"
      ],
      "text/markdown": [
       "\n",
       "A matrix: 4 × 4 of type dbl\n",
       "\n",
       "| <!--/--> | A | C | G | T |\n",
       "|---|---|---|---|---|\n",
       "| A |  2 | -1 | -1 | -1 |\n",
       "| C | -1 |  2 | -1 | -1 |\n",
       "| G | -1 | -1 |  2 | -1 |\n",
       "| T | -1 | -1 | -1 |  2 |\n",
       "\n"
      ],
      "text/plain": [
       "  A  C  G  T \n",
       "A  2 -1 -1 -1\n",
       "C -1  2 -1 -1\n",
       "G -1 -1  2 -1\n",
       "T -1 -1 -1  2"
      ]
     },
     "metadata": {},
     "output_type": "display_data"
    }
   ],
   "source": [
    "sigma = nucleotideSubstitutionMatrix(match = 2, mismatch = -1, baseOnly = TRUE)\n",
    "sigma"
   ]
  },
  {
   "cell_type": "code",
   "execution_count": 54,
   "metadata": {
    "vscode": {
     "languageId": "r"
    }
   },
   "outputs": [],
   "source": [
    "s1 <- \"GAATTC\"\n",
    "s2 <- \"GATTA\"\n",
    "\n",
    "globalAligns <- pairwiseAlignment(s1, s2, substitutionMatrix = sigma, gapOpening = -2, gapExtension = -8, scoreOnly = FALSE)"
   ]
  },
  {
   "cell_type": "code",
   "execution_count": 55,
   "metadata": {
    "vscode": {
     "languageId": "r"
    }
   },
   "outputs": [
    {
     "data": {
      "text/plain": [
       "Global PairwiseAlignmentsSingleSubject (1 of 1)\n",
       "pattern: GAATTC\n",
       "subject: GA-TTA\n",
       "score: -3 "
      ]
     },
     "metadata": {},
     "output_type": "display_data"
    }
   ],
   "source": [
    "globalAligns"
   ]
  },
  {
   "cell_type": "code",
   "execution_count": 62,
   "metadata": {
    "vscode": {
     "languageId": "r"
    }
   },
   "outputs": [],
   "source": [
    "s1 <- \"AAAATAATAAAAAA\"\n",
    "s2 <- \"AAAAAAAAAAAA\"\n",
    "\n",
    "globalAligns <- pairwiseAlignment(s1, s2, substitutionMatrix = sigma, gapOpening = -2, gapExtension = -8, scoreOnly = FALSE)"
   ]
  },
  {
   "cell_type": "code",
   "execution_count": null,
   "metadata": {
    "vscode": {
     "languageId": "r"
    }
   },
   "outputs": [],
   "source": [
    "data(BLOSUM50)\n",
    "\n",
    "BLOSUM50"
   ]
  },
  {
   "cell_type": "code",
   "execution_count": 66,
   "metadata": {
    "vscode": {
     "languageId": "r"
    }
   },
   "outputs": [],
   "source": [
    "data(BLOSUM50)\n",
    "\n",
    "s3 <- \"PAWHEAHE\"\n",
    "s4 <- \"HEAGAWGHEE\"\n",
    "\n",
    "globalAligns2 <- pairwiseAlignment(s3, s4, substitutionMatrix = \"BLOSUM50\", gapOpening = -2, gapExtension = -8, scoreOnly = FALSE)"
   ]
  },
  {
   "cell_type": "code",
   "execution_count": 67,
   "metadata": {
    "vscode": {
     "languageId": "r"
    }
   },
   "outputs": [
    {
     "data": {
      "text/plain": [
       "Global PairwiseAlignmentsSingleSubject (1 of 1)\n",
       "pattern: -PAWHEAHE-\n",
       "subject: HEAGAWGHEE\n",
       "score: -8 "
      ]
     },
     "metadata": {},
     "output_type": "display_data"
    }
   ],
   "source": [
    "globalAligns2"
   ]
  },
  {
   "cell_type": "code",
   "execution_count": 69,
   "metadata": {
    "vscode": {
     "languageId": "r"
    }
   },
   "outputs": [],
   "source": [
    "lepraeseqstring <- c2s(lepraeseq)\n",
    "ulceransseqstr <- c2s(ulceransseq)\n",
    "\n",
    "lepraeseqstring <- toupper(lepraeseqstring)\n",
    "ulceransseqstr <- toupper(ulceransseqstr)"
   ]
  },
  {
   "cell_type": "code",
   "execution_count": 81,
   "metadata": {
    "vscode": {
     "languageId": "r"
    }
   },
   "outputs": [],
   "source": [
    "globalAligns3 = pairwiseAlignment(lepraeseqstring, ulceransseqstr, substitutionMatrix = \"BLOSUM50\", gapOpening = -5, gapExtension = -18, scoreOnly = FALSE)"
   ]
  },
  {
   "cell_type": "code",
   "execution_count": 82,
   "metadata": {
    "vscode": {
     "languageId": "r"
    }
   },
   "outputs": [
    {
     "data": {
      "text/plain": [
       "Global PairwiseAlignmentsSingleSubject (1 of 1)\n",
       "pattern: MT-----NR--T---LSREEIRKLDRDLRILVAT...DTPREELDRCQYSNDIDTRSGDRFVLHGRVFKNL\n",
       "subject: MLAVLPEKREMTECHLSDEEIRKLNRDLRILIAT...DNSREEPIRHQRSVGTSARSG-RSIC-------T\n",
       "score: 429 "
      ]
     },
     "metadata": {},
     "output_type": "display_data"
    }
   ],
   "source": [
    "globalAligns3"
   ]
  },
  {
   "cell_type": "code",
   "execution_count": 73,
   "metadata": {
    "vscode": {
     "languageId": "r"
    }
   },
   "outputs": [],
   "source": [
    "# Smith-Waterman Algoritmasıyla Local Alignment"
   ]
  },
  {
   "cell_type": "code",
   "execution_count": 79,
   "metadata": {
    "vscode": {
     "languageId": "r"
    }
   },
   "outputs": [],
   "source": [
    "localAligns = pairwiseAlignment(lepraeseqstring, ulceransseqstr, substitutionMatrix = \"BLOSUM50\", gapOpening = -5, gapExtension = -2, scoreOnly = FALSE, type = \"local\")"
   ]
  },
  {
   "cell_type": "code",
   "execution_count": 80,
   "metadata": {
    "vscode": {
     "languageId": "r"
    }
   },
   "outputs": [
    {
     "data": {
      "text/plain": [
       "Local PairwiseAlignmentsSingleSubject (1 of 1)\n",
       "pattern:  [1] MTNRTLSREEIRKLDRDLRILVATNGTLTRVL...LRSVFQDTPREELDRCQYSNDIDTRSGDRFV\n",
       "subject: [11] MTECHLSDEEIRKLNRDLRILIATNGTLTRIL...LRSVFEDNSREEPIRHQRSVGTSARSG-RSI\n",
       "score: 765 "
      ]
     },
     "metadata": {},
     "output_type": "display_data"
    }
   ],
   "source": [
    "localAligns"
   ]
  },
  {
   "cell_type": "code",
   "execution_count": 3,
   "metadata": {
    "vscode": {
     "languageId": "r"
    }
   },
   "outputs": [
    {
     "name": "stderr",
     "output_type": "stream",
     "text": [
      "Warning message:\n",
      "\"package 'Biostrings' is in use and will not be installed\"\n"
     ]
    }
   ],
   "source": [
    "install.packages(\"Biostrings\")"
   ]
  },
  {
   "cell_type": "code",
   "execution_count": 1,
   "metadata": {
    "vscode": {
     "languageId": "r"
    }
   },
   "outputs": [
    {
     "data": {
      "text/html": [
       "'c:/Users/ozgur/Desktop/yazılım/VSCode'"
      ],
      "text/latex": [
       "'c:/Users/ozgur/Desktop/yazılım/VSCode'"
      ],
      "text/markdown": [
       "'c:/Users/ozgur/Desktop/yazılım/VSCode'"
      ],
      "text/plain": [
       "[1] \"c:/Users/ozgur/Desktop/yazılım/VSCode\""
      ]
     },
     "metadata": {},
     "output_type": "display_data"
    }
   ],
   "source": [
    "getwd()"
   ]
  },
  {
   "cell_type": "code",
   "execution_count": null,
   "metadata": {
    "vscode": {
     "languageId": "r"
    }
   },
   "outputs": [],
   "source": [
    "library(BiocManager)\n",
    "BiocManager::install(\"msr\")"
   ]
  },
  {
   "cell_type": "code",
   "execution_count": null,
   "metadata": {
    "vscode": {
     "languageId": "r"
    }
   },
   "outputs": [],
   "source": [
    "library(msa)"
   ]
  },
  {
   "cell_type": "code",
   "execution_count": null,
   "metadata": {
    "vscode": {
     "languageId": "r"
    }
   },
   "outputs": [],
   "source": []
  },
  {
   "cell_type": "code",
   "execution_count": null,
   "metadata": {
    "vscode": {
     "languageId": "r"
    }
   },
   "outputs": [],
   "source": [
    "firstAlignment <- msa(mySeq)"
   ]
  },
  {
   "cell_type": "code",
   "execution_count": null,
   "metadata": {
    "vscode": {
     "languageId": "r"
    }
   },
   "outputs": [],
   "source": [
    "# vize sonrası"
   ]
  },
  {
   "cell_type": "code",
   "execution_count": null,
   "metadata": {
    "vscode": {
     "languageId": "r"
    }
   },
   "outputs": [],
   "source": [
    "# phylogenetic tree with r"
   ]
  },
  {
   "cell_type": "code",
   "execution_count": 1,
   "metadata": {
    "vscode": {
     "languageId": "r"
    }
   },
   "outputs": [
    {
     "data": {
      "text/html": [
       "'c:/Users/ozgur/Desktop/yazılım/VSCode'"
      ],
      "text/latex": [
       "'c:/Users/ozgur/Desktop/yazılım/VSCode'"
      ],
      "text/markdown": [
       "'c:/Users/ozgur/Desktop/yazılım/VSCode'"
      ],
      "text/plain": [
       "[1] \"c:/Users/ozgur/Desktop/yazılım/VSCode\""
      ]
     },
     "metadata": {},
     "output_type": "display_data"
    }
   ],
   "source": [
    "getwd()"
   ]
  },
  {
   "cell_type": "code",
   "execution_count": 1,
   "metadata": {
    "vscode": {
     "languageId": "r"
    }
   },
   "outputs": [
    {
     "name": "stderr",
     "output_type": "stream",
     "text": [
      "Warning message:\n",
      "\"package 'tinytex' was built under R version 4.2.3\"\n"
     ]
    }
   ],
   "source": [
    "suppressPackageStartupMessages(library(\"msa\"))\n",
    "library(\"tools\")\n",
    "library(\"tinytex\")"
   ]
  },
  {
   "cell_type": "code",
   "execution_count": 2,
   "metadata": {
    "vscode": {
     "languageId": "r"
    }
   },
   "outputs": [
    {
     "data": {
      "text/html": [
       "'C:/Program Files/R/R-4.2.2/library/msa/tex/texshade.sty'"
      ],
      "text/latex": [
       "'C:/Program Files/R/R-4.2.2/library/msa/tex/texshade.sty'"
      ],
      "text/markdown": [
       "'C:/Program Files/R/R-4.2.2/library/msa/tex/texshade.sty'"
      ],
      "text/plain": [
       "[1] \"C:/Program Files/R/R-4.2.2/library/msa/tex/texshade.sty\""
      ]
     },
     "metadata": {},
     "output_type": "display_data"
    }
   ],
   "source": [
    "system.file(\"tex\", \"texshade.sty\", package=\"msa\")"
   ]
  },
  {
   "cell_type": "code",
   "execution_count": 3,
   "metadata": {
    "vscode": {
     "languageId": "r"
    }
   },
   "outputs": [
    {
     "data": {
      "text/plain": [
       "AAStringSet object of length 9:\n",
       "    width seq                                               names               \n",
       "[1]   452 MSTAVLENPGLGRKLSDFGQETS...LKILADSINSEIGILCSALQKIK PH4H_Homo_sapiens\n",
       "[2]   453 MAAVVLENGVLSRKLSDFGQETS...KILADSINSEVGILCNALQKIKS PH4H_Rattus_norve...\n",
       "[3]   453 MAAVVLENGVLSRKLSDFGQETS...KILADSINSEVGILCHALQKIKS PH4H_Mus_musculus\n",
       "[4]   297 MNDRADFVVPDITTRKNVGLSHD...DVAPDDLVLNAGDRQGWADTEDV PH4H_Chromobacter...\n",
       "[5]   262 MKTTQYVARQPDDNGFIHYPETE...MALVHEAMRLGLHAPLFPPKQAA PH4H_Pseudomonas_...\n",
       "[6]   451 MSALVLESRALGRKLSDFGQETS...LKILADSISSEVEILCSALQKLK PH4H_Bos_taurus\n",
       "[7]   313 MAIATPTSAAPTPAPAGFTGTLT...DVVDGDAVLNAGTREGWADTADI PH4H_Ralstonia_so...\n",
       "[8]   294 MSGDGLSNGPPPGARPDWTIDQG...AVLTRGTQAYATAGGRLAGAAAG PH4H_Caulobacter_...\n",
       "[9]   275 MSVAEYARDCAAQGLRGDYSVCR...QTADFEAIVARRKDQKALDPATV PH4H_Rhizobium_loti"
      ]
     },
     "metadata": {},
     "output_type": "display_data"
    }
   ],
   "source": [
    "mySequenceFile <- \"C:\\\\Users\\\\ozgur\\\\Desktop\\\\yazılım\\\\VSCode\\\\exampleAA (1).fasta\"\n",
    "mySequences <- readAAStringSet(mySequenceFile)\n",
    "mySequences"
   ]
  },
  {
   "cell_type": "code",
   "execution_count": 4,
   "metadata": {
    "vscode": {
     "languageId": "r"
    }
   },
   "outputs": [
    {
     "name": "stdout",
     "output_type": "stream",
     "text": [
      "use default substitution matrix\n"
     ]
    },
    {
     "data": {
      "text/plain": [
       "CLUSTAL 2.1  \n",
       "\n",
       "Call:\n",
       "   msa(mySequences)\n",
       "\n",
       "MsaAAMultipleAlignment with 9 rows and 456 columns\n",
       "    aln                                                    names\n",
       "[1] MAAVVLENGVLSRKLSDFGQETSYIE...QLKILADSINSEVGILCNALQKIKS PH4H_Rattus_norve...\n",
       "[2] MAAVVLENGVLSRKLSDFGQETSYIE...QLKILADSINSEVGILCHALQKIKS PH4H_Mus_musculus\n",
       "[3] MSTAVLENPGLGRKLSDFGQETSYIE...QLKILADSINSEIGILCSALQKIK- PH4H_Homo_sapiens\n",
       "[4] MSALVLESRALGRKLSDFGQETSYIE...QLKILADSISSEVEILCSALQKLK- PH4H_Bos_taurus\n",
       "[5] --------------------------...LNAGDRQGWADTEDV---------- PH4H_Chromobacter...\n",
       "[6] --------------------------...LNAGTREGWADTADI---------- PH4H_Ralstonia_so...\n",
       "[7] --------------------------...LTRGT-QAYATAGGRLAGAAAG--- PH4H_Caulobacter_...\n",
       "[8] --------------------------...------------------------- PH4H_Pseudomonas_...\n",
       "[9] --------------------------...------------------------- PH4H_Rhizobium_loti\n",
       "Con --------------------------...??????????????IL??A???--- Consensus "
      ]
     },
     "metadata": {},
     "output_type": "display_data"
    }
   ],
   "source": [
    "myFirstAlignment <- msa(mySequences)\n",
    "myFirstAlignment"
   ]
  },
  {
   "cell_type": "code",
   "execution_count": null,
   "metadata": {
    "vscode": {
     "languageId": "r"
    }
   },
   "outputs": [],
   "source": [
    "print(myFirstAlignment, show=\"complete\")"
   ]
  },
  {
   "cell_type": "code",
   "execution_count": 35,
   "metadata": {
    "vscode": {
     "languageId": "r"
    }
   },
   "outputs": [
    {
     "data": {
      "text/html": [
       "'myFirstAlignment.pdf'"
      ],
      "text/latex": [
       "'myFirstAlignment.pdf'"
      ],
      "text/markdown": [
       "'myFirstAlignment.pdf'"
      ],
      "text/plain": [
       "[1] \"myFirstAlignment.pdf\""
      ]
     },
     "metadata": {},
     "output_type": "display_data"
    },
    {
     "data": {
      "text/html": [
       "'myFirstAlignment2.pdf'"
      ],
      "text/latex": [
       "'myFirstAlignment2.pdf'"
      ],
      "text/markdown": [
       "'myFirstAlignment2.pdf'"
      ],
      "text/plain": [
       "[1] \"myFirstAlignment2.pdf\""
      ]
     },
     "metadata": {},
     "output_type": "display_data"
    },
    {
     "data": {
      "text/html": [
       "'myFirstAlignment3.pdf'"
      ],
      "text/latex": [
       "'myFirstAlignment3.pdf'"
      ],
      "text/markdown": [
       "'myFirstAlignment3.pdf'"
      ],
      "text/plain": [
       "[1] \"myFirstAlignment3.pdf\""
      ]
     },
     "metadata": {},
     "output_type": "display_data"
    },
    {
     "data": {
      "text/html": [
       "'myFirstAlignment4.pdf'"
      ],
      "text/latex": [
       "'myFirstAlignment4.pdf'"
      ],
      "text/markdown": [
       "'myFirstAlignment4.pdf'"
      ],
      "text/plain": [
       "[1] \"myFirstAlignment4.pdf\""
      ]
     },
     "metadata": {},
     "output_type": "display_data"
    }
   ],
   "source": [
    "msaPrettyPrint(file = \"myFirstAlignment.tex\", myFirstAlignment, output = \"tex\", showNames = \"none\", showLogo = \"none\", askForOverwrite = FALSE, verbose = FALSE)\n",
    "pdflatex(\"myFirstAlignment.tex\")\n",
    "\n",
    "msaPrettyPrint(file = \"myFirstAlignment2.tex\", myFirstAlignment, output = \"tex\", y = c(164,213), subset = c(1:6), consensusColor = \"ColdHot\", showNames = \"none\", showLogo = \"none\", askForOverwrite = FALSE, verbose = FALSE)\n",
    "pdflatex(\"myFirstAlignment2.tex\")\n",
    "\n",
    "msaPrettyPrint(file = \"myFirstAlignment3.tex\", myFirstAlignment, output = \"tex\", y = c(164,213), subset = c(1:6), showNames = \"none\", showLogo = \"top\", logoColors = \"rasmol\", shadingMode = \"similar\", askForOverwrite = FALSE, verbose = FALSE)\n",
    "pdflatex(\"myFirstAlignment3.tex\")\n",
    "\n",
    "msaPrettyPrint(file = \"myFirstAlignment4.tex\", myFirstAlignment, output = \"tex\", y = c(164,213), subset = c(1:6), showNames = \"none\", showLogo = \"top\", logoColors = \"rasmol\", shadingMode = \"functional\", shadingModeArg = \"structure\", askForOverwrite = FALSE, verbose = FALSE)\n",
    "pdflatex(\"myFirstAlignment4.tex\")"
   ]
  },
  {
   "cell_type": "code",
   "execution_count": null,
   "metadata": {
    "vscode": {
     "languageId": "r"
    }
   },
   "outputs": [],
   "source": [
    "?msaPrettyPrint"
   ]
  },
  {
   "cell_type": "code",
   "execution_count": null,
   "metadata": {
    "vscode": {
     "languageId": "r"
    }
   },
   "outputs": [],
   "source": [
    "myClustalWAlignment <- msa(mySequences, \"ClustalW\")\n",
    "myClustalWAlignment"
   ]
  },
  {
   "cell_type": "code",
   "execution_count": null,
   "metadata": {
    "vscode": {
     "languageId": "r"
    }
   },
   "outputs": [],
   "source": [
    "myClustalOmegaAlignment <- msa(mySequences, \"ClustalOmega\")\n",
    "myClustalOmegaAlignment"
   ]
  },
  {
   "cell_type": "code",
   "execution_count": null,
   "metadata": {
    "vscode": {
     "languageId": "r"
    }
   },
   "outputs": [],
   "source": [
    "myMuscleAlignment <- msa(mySequences, \"Muscle\")\n",
    "myMuscleAlignment"
   ]
  },
  {
   "cell_type": "code",
   "execution_count": 12,
   "metadata": {
    "vscode": {
     "languageId": "r"
    }
   },
   "outputs": [
    {
     "name": "stdout",
     "output_type": "stream",
     "text": [
      "ClustalOmega 1.2.0 \n",
      "\n",
      "Call:\n",
      "   msa(mySequences, \"ClustalOmega\")\n",
      "\n",
      "MsaAAMultipleAlignment with 9 rows and 467 columns\n",
      "    aln                                                    names\n",
      "[1] MSALVLESRALGRKLSDFGQETSYIE...LKI-LADSISSEVEILCSALQKLK- PH4H_Bos_taurus\n",
      "[2] MSTAVLENPGLGRKLSDFGQETSYIE...LKI-LADSINSEIGILCSALQKIK- PH4H_Homo_sapiens\n",
      "[3] MAAVVLENGVLSRKLSDFGQETSYIE...LKI-LADSINSEVGILCNALQKIKS PH4H_Rattus_norve... \n",
      "... ...\n",
      "[7] --------------------------...YATAGGRLAGAAAG----------- PH4H_Caulobacter_...\n",
      "[8] --------------------------...GWADTEDV----------------- PH4H_Chromobacter...\n",
      "[9] --------------------------...GWADTADI----------------- PH4H_Ralstonia_so... \n"
     ]
    }
   ],
   "source": [
    "print(myClustalOmegaAlignment, showConsensus=FALSE, halfNrow=3)"
   ]
  },
  {
   "cell_type": "code",
   "execution_count": 14,
   "metadata": {
    "vscode": {
     "languageId": "r"
    }
   },
   "outputs": [
    {
     "data": {
      "text/plain": [
       "CLUSTAL 2.1  \n",
       "\n",
       "Call:\n",
       "   msa(mySequences)\n",
       "\n",
       "MsaAAMultipleAlignment with 9 rows and 456 columns\n",
       "    aln                                                    names\n",
       "[1] ##########################...QLKILADSINSEVGILCNALQKIKS PH4H_Rattus_norve...\n",
       "[2] ##########################...QLKILADSINSEVGILCHALQKIKS PH4H_Mus_musculus\n",
       "[3] ##########################...QLKILADSINSEIGILCSALQKIK- PH4H_Homo_sapiens\n",
       "[4] ##########################...QLKILADSISSEVEILCSALQKLK- PH4H_Bos_taurus\n",
       "[5] ##########################...LNAGDRQGWADTEDV---------- PH4H_Chromobacter...\n",
       "[6] ##########################...LNAGTREGWADTADI---------- PH4H_Ralstonia_so...\n",
       "[7] ##########################...LTRGT-QAYATAGGRLAGAAAG--- PH4H_Caulobacter_...\n",
       "[8] ##########################...------------------------- PH4H_Pseudomonas_...\n",
       "[9] ##########################...------------------------- PH4H_Rhizobium_loti\n",
       "Con ##########################...??????????????IL??A???--- Consensus "
      ]
     },
     "metadata": {},
     "output_type": "display_data"
    },
    {
     "data": {
      "text/html": [
       "'masked.pdf'"
      ],
      "text/latex": [
       "'masked.pdf'"
      ],
      "text/markdown": [
       "'masked.pdf'"
      ],
      "text/plain": [
       "[1] \"masked.pdf\""
      ]
     },
     "metadata": {},
     "output_type": "display_data"
    }
   ],
   "source": [
    "myMaskedAlignment <- myFirstAlignment\n",
    "colM <- IRanges(start=1, end=100)\n",
    "colmask(myMaskedAlignment) <- colM\n",
    "myMaskedAlignment\n",
    "\n",
    "msaPrettyPrint(file = \"masked.tex\", myMaskedAlignment, output=\"tex\", showNames=\"none\", showLogo = \"none\", verbose=FALSE, askForOverwrite=FALSE)\n",
    "pdflatex(\"masked.tex\")"
   ]
  },
  {
   "cell_type": "code",
   "execution_count": 15,
   "metadata": {
    "vscode": {
     "languageId": "r"
    }
   },
   "outputs": [
    {
     "data": {
      "text/plain": [
       "AAStringSet object of length 9:\n",
       "    width seq                                               names               \n",
       "[1]   456 MAAVVLENGVLSRKLSDFGQETS...KILADSINSEVGILCNALQKIKS PH4H_Rattus_norve...\n",
       "[2]   456 MAAVVLENGVLSRKLSDFGQETS...KILADSINSEVGILCHALQKIKS PH4H_Mus_musculus\n",
       "[3]   456 MSTAVLENPGLGRKLSDFGQETS...KILADSINSEIGILCSALQKIK- PH4H_Homo_sapiens\n",
       "[4]   456 MSALVLESRALGRKLSDFGQETS...KILADSISSEVEILCSALQKLK- PH4H_Bos_taurus\n",
       "[5]   456 -----------------------...AGDRQGWADTEDV---------- PH4H_Chromobacter...\n",
       "[6]   456 -----------------------...AGTREGWADTADI---------- PH4H_Ralstonia_so...\n",
       "[7]   456 -----------------------...RGT-QAYATAGGRLAGAAAG--- PH4H_Caulobacter_...\n",
       "[8]   456 -----------------------...----------------------- PH4H_Pseudomonas_...\n",
       "[9]   456 -----------------------...----------------------- PH4H_Rhizobium_loti"
      ]
     },
     "metadata": {},
     "output_type": "display_data"
    }
   ],
   "source": [
    "unmasked(myMaskedAlignment)"
   ]
  },
  {
   "cell_type": "code",
   "execution_count": 16,
   "metadata": {
    "vscode": {
     "languageId": "r"
    }
   },
   "outputs": [
    {
     "data": {
      "text/html": [
       "<style>\n",
       ".list-inline {list-style: none; margin:0; padding: 0}\n",
       ".list-inline>li {display: inline-block}\n",
       ".list-inline>li:not(:last-child)::after {content: \"\\00b7\"; padding: 0 .5ex}\n",
       "</style>\n",
       "<ol class=list-inline><li>21</li><li>456</li></ol>\n"
      ],
      "text/latex": [
       "\\begin{enumerate*}\n",
       "\\item 21\n",
       "\\item 456\n",
       "\\end{enumerate*}\n"
      ],
      "text/markdown": [
       "1. 21\n",
       "2. 456\n",
       "\n",
       "\n"
      ],
      "text/plain": [
       "[1]  21 456"
      ]
     },
     "metadata": {},
     "output_type": "display_data"
    }
   ],
   "source": [
    "conMat <- consensusMatrix(myFirstAlignment)\n",
    "dim(conMat)"
   ]
  },
  {
   "cell_type": "code",
   "execution_count": 17,
   "metadata": {
    "vscode": {
     "languageId": "r"
    }
   },
   "outputs": [
    {
     "data": {
      "text/html": [
       "<table class=\"dataframe\">\n",
       "<caption>A matrix: 21 × 456 of type int</caption>\n",
       "<tbody>\n",
       "\t<tr><th scope=row>-</th><td>5</td><td>5</td><td>5</td><td>5</td><td>5</td><td>5</td><td>5</td><td>5</td><td>5</td><td>5</td><td>⋯</td><td>4</td><td>4</td><td>4</td><td>4</td><td>4</td><td>4</td><td>4</td><td>5</td><td>5</td><td>7</td></tr>\n",
       "\t<tr><th scope=row>A</th><td>0</td><td>2</td><td>3</td><td>1</td><td>0</td><td>0</td><td>0</td><td>0</td><td>0</td><td>1</td><td>⋯</td><td>0</td><td>1</td><td>0</td><td>5</td><td>1</td><td>1</td><td>0</td><td>0</td><td>0</td><td>0</td></tr>\n",
       "\t<tr><th scope=row>C</th><td>0</td><td>0</td><td>0</td><td>0</td><td>0</td><td>0</td><td>0</td><td>0</td><td>0</td><td>0</td><td>⋯</td><td>0</td><td>4</td><td>0</td><td>0</td><td>0</td><td>0</td><td>0</td><td>0</td><td>0</td><td>0</td></tr>\n",
       "\t<tr><th scope=row>D</th><td>0</td><td>0</td><td>0</td><td>0</td><td>0</td><td>0</td><td>0</td><td>0</td><td>0</td><td>0</td><td>⋯</td><td>0</td><td>0</td><td>0</td><td>0</td><td>0</td><td>0</td><td>0</td><td>0</td><td>0</td><td>0</td></tr>\n",
       "\t<tr><th scope=row>E</th><td>0</td><td>0</td><td>0</td><td>0</td><td>0</td><td>0</td><td>4</td><td>0</td><td>0</td><td>0</td><td>⋯</td><td>0</td><td>0</td><td>0</td><td>0</td><td>0</td><td>0</td><td>0</td><td>0</td><td>0</td><td>0</td></tr>\n",
       "\t<tr><th scope=row>F</th><td>0</td><td>0</td><td>0</td><td>0</td><td>0</td><td>0</td><td>0</td><td>0</td><td>0</td><td>0</td><td>⋯</td><td>0</td><td>0</td><td>0</td><td>0</td><td>0</td><td>0</td><td>0</td><td>0</td><td>0</td><td>0</td></tr>\n",
       "\t<tr><th scope=row>G</th><td>0</td><td>0</td><td>0</td><td>0</td><td>0</td><td>0</td><td>0</td><td>0</td><td>2</td><td>1</td><td>⋯</td><td>0</td><td>0</td><td>1</td><td>0</td><td>0</td><td>0</td><td>1</td><td>0</td><td>0</td><td>0</td></tr>\n",
       "\t<tr><th scope=row>H</th><td>0</td><td>0</td><td>0</td><td>0</td><td>0</td><td>0</td><td>0</td><td>0</td><td>0</td><td>0</td><td>⋯</td><td>0</td><td>0</td><td>1</td><td>0</td><td>0</td><td>0</td><td>0</td><td>0</td><td>0</td><td>0</td></tr>\n",
       "\t<tr><th scope=row>I</th><td>0</td><td>0</td><td>0</td><td>0</td><td>0</td><td>0</td><td>0</td><td>0</td><td>0</td><td>0</td><td>⋯</td><td>0</td><td>0</td><td>0</td><td>0</td><td>0</td><td>0</td><td>0</td><td>3</td><td>0</td><td>0</td></tr>\n",
       "\t<tr><th scope=row>K</th><td>0</td><td>0</td><td>0</td><td>0</td><td>0</td><td>0</td><td>0</td><td>0</td><td>0</td><td>0</td><td>⋯</td><td>0</td><td>0</td><td>0</td><td>0</td><td>0</td><td>0</td><td>4</td><td>0</td><td>4</td><td>0</td></tr>\n",
       "\t<tr><th scope=row>L</th><td>0</td><td>0</td><td>0</td><td>1</td><td>0</td><td>4</td><td>0</td><td>0</td><td>0</td><td>0</td><td>⋯</td><td>5</td><td>0</td><td>0</td><td>0</td><td>4</td><td>0</td><td>0</td><td>1</td><td>0</td><td>0</td></tr>\n",
       "\t<tr><th scope=row>M</th><td>4</td><td>0</td><td>0</td><td>0</td><td>0</td><td>0</td><td>0</td><td>0</td><td>0</td><td>0</td><td>⋯</td><td>0</td><td>0</td><td>0</td><td>0</td><td>0</td><td>0</td><td>0</td><td>0</td><td>0</td><td>0</td></tr>\n",
       "\t<tr><th scope=row>N</th><td>0</td><td>0</td><td>0</td><td>0</td><td>0</td><td>0</td><td>0</td><td>3</td><td>0</td><td>0</td><td>⋯</td><td>0</td><td>0</td><td>1</td><td>0</td><td>0</td><td>0</td><td>0</td><td>0</td><td>0</td><td>0</td></tr>\n",
       "\t<tr><th scope=row>P</th><td>0</td><td>0</td><td>0</td><td>0</td><td>0</td><td>0</td><td>0</td><td>0</td><td>1</td><td>0</td><td>⋯</td><td>0</td><td>0</td><td>0</td><td>0</td><td>0</td><td>0</td><td>0</td><td>0</td><td>0</td><td>0</td></tr>\n",
       "\t<tr><th scope=row>Q</th><td>0</td><td>0</td><td>0</td><td>0</td><td>0</td><td>0</td><td>0</td><td>0</td><td>0</td><td>0</td><td>⋯</td><td>0</td><td>0</td><td>0</td><td>0</td><td>0</td><td>4</td><td>0</td><td>0</td><td>0</td><td>0</td></tr>\n",
       "\t<tr><th scope=row>R</th><td>0</td><td>0</td><td>0</td><td>0</td><td>0</td><td>0</td><td>0</td><td>0</td><td>1</td><td>0</td><td>⋯</td><td>0</td><td>0</td><td>0</td><td>0</td><td>0</td><td>0</td><td>0</td><td>0</td><td>0</td><td>0</td></tr>\n",
       "\t<tr><th scope=row>S</th><td>0</td><td>2</td><td>0</td><td>0</td><td>0</td><td>0</td><td>0</td><td>1</td><td>0</td><td>0</td><td>⋯</td><td>0</td><td>0</td><td>2</td><td>0</td><td>0</td><td>0</td><td>0</td><td>0</td><td>0</td><td>2</td></tr>\n",
       "\t<tr><th scope=row>T</th><td>0</td><td>0</td><td>1</td><td>0</td><td>0</td><td>0</td><td>0</td><td>0</td><td>0</td><td>0</td><td>⋯</td><td>0</td><td>0</td><td>0</td><td>0</td><td>0</td><td>0</td><td>0</td><td>0</td><td>0</td><td>0</td></tr>\n",
       "\t<tr><th scope=row>V</th><td>0</td><td>0</td><td>0</td><td>2</td><td>4</td><td>0</td><td>0</td><td>0</td><td>0</td><td>2</td><td>⋯</td><td>0</td><td>0</td><td>0</td><td>0</td><td>0</td><td>0</td><td>0</td><td>0</td><td>0</td><td>0</td></tr>\n",
       "\t<tr><th scope=row>W</th><td>0</td><td>0</td><td>0</td><td>0</td><td>0</td><td>0</td><td>0</td><td>0</td><td>0</td><td>0</td><td>⋯</td><td>0</td><td>0</td><td>0</td><td>0</td><td>0</td><td>0</td><td>0</td><td>0</td><td>0</td><td>0</td></tr>\n",
       "\t<tr><th scope=row>Y</th><td>0</td><td>0</td><td>0</td><td>0</td><td>0</td><td>0</td><td>0</td><td>0</td><td>0</td><td>0</td><td>⋯</td><td>0</td><td>0</td><td>0</td><td>0</td><td>0</td><td>0</td><td>0</td><td>0</td><td>0</td><td>0</td></tr>\n",
       "</tbody>\n",
       "</table>\n"
      ],
      "text/latex": [
       "A matrix: 21 × 456 of type int\n",
       "\\begin{tabular}{r|lllllllllllllllllllll}\n",
       "\t- & 5 & 5 & 5 & 5 & 5 & 5 & 5 & 5 & 5 & 5 & ⋯ & 4 & 4 & 4 & 4 & 4 & 4 & 4 & 5 & 5 & 7\\\\\n",
       "\tA & 0 & 2 & 3 & 1 & 0 & 0 & 0 & 0 & 0 & 1 & ⋯ & 0 & 1 & 0 & 5 & 1 & 1 & 0 & 0 & 0 & 0\\\\\n",
       "\tC & 0 & 0 & 0 & 0 & 0 & 0 & 0 & 0 & 0 & 0 & ⋯ & 0 & 4 & 0 & 0 & 0 & 0 & 0 & 0 & 0 & 0\\\\\n",
       "\tD & 0 & 0 & 0 & 0 & 0 & 0 & 0 & 0 & 0 & 0 & ⋯ & 0 & 0 & 0 & 0 & 0 & 0 & 0 & 0 & 0 & 0\\\\\n",
       "\tE & 0 & 0 & 0 & 0 & 0 & 0 & 4 & 0 & 0 & 0 & ⋯ & 0 & 0 & 0 & 0 & 0 & 0 & 0 & 0 & 0 & 0\\\\\n",
       "\tF & 0 & 0 & 0 & 0 & 0 & 0 & 0 & 0 & 0 & 0 & ⋯ & 0 & 0 & 0 & 0 & 0 & 0 & 0 & 0 & 0 & 0\\\\\n",
       "\tG & 0 & 0 & 0 & 0 & 0 & 0 & 0 & 0 & 2 & 1 & ⋯ & 0 & 0 & 1 & 0 & 0 & 0 & 1 & 0 & 0 & 0\\\\\n",
       "\tH & 0 & 0 & 0 & 0 & 0 & 0 & 0 & 0 & 0 & 0 & ⋯ & 0 & 0 & 1 & 0 & 0 & 0 & 0 & 0 & 0 & 0\\\\\n",
       "\tI & 0 & 0 & 0 & 0 & 0 & 0 & 0 & 0 & 0 & 0 & ⋯ & 0 & 0 & 0 & 0 & 0 & 0 & 0 & 3 & 0 & 0\\\\\n",
       "\tK & 0 & 0 & 0 & 0 & 0 & 0 & 0 & 0 & 0 & 0 & ⋯ & 0 & 0 & 0 & 0 & 0 & 0 & 4 & 0 & 4 & 0\\\\\n",
       "\tL & 0 & 0 & 0 & 1 & 0 & 4 & 0 & 0 & 0 & 0 & ⋯ & 5 & 0 & 0 & 0 & 4 & 0 & 0 & 1 & 0 & 0\\\\\n",
       "\tM & 4 & 0 & 0 & 0 & 0 & 0 & 0 & 0 & 0 & 0 & ⋯ & 0 & 0 & 0 & 0 & 0 & 0 & 0 & 0 & 0 & 0\\\\\n",
       "\tN & 0 & 0 & 0 & 0 & 0 & 0 & 0 & 3 & 0 & 0 & ⋯ & 0 & 0 & 1 & 0 & 0 & 0 & 0 & 0 & 0 & 0\\\\\n",
       "\tP & 0 & 0 & 0 & 0 & 0 & 0 & 0 & 0 & 1 & 0 & ⋯ & 0 & 0 & 0 & 0 & 0 & 0 & 0 & 0 & 0 & 0\\\\\n",
       "\tQ & 0 & 0 & 0 & 0 & 0 & 0 & 0 & 0 & 0 & 0 & ⋯ & 0 & 0 & 0 & 0 & 0 & 4 & 0 & 0 & 0 & 0\\\\\n",
       "\tR & 0 & 0 & 0 & 0 & 0 & 0 & 0 & 0 & 1 & 0 & ⋯ & 0 & 0 & 0 & 0 & 0 & 0 & 0 & 0 & 0 & 0\\\\\n",
       "\tS & 0 & 2 & 0 & 0 & 0 & 0 & 0 & 1 & 0 & 0 & ⋯ & 0 & 0 & 2 & 0 & 0 & 0 & 0 & 0 & 0 & 2\\\\\n",
       "\tT & 0 & 0 & 1 & 0 & 0 & 0 & 0 & 0 & 0 & 0 & ⋯ & 0 & 0 & 0 & 0 & 0 & 0 & 0 & 0 & 0 & 0\\\\\n",
       "\tV & 0 & 0 & 0 & 2 & 4 & 0 & 0 & 0 & 0 & 2 & ⋯ & 0 & 0 & 0 & 0 & 0 & 0 & 0 & 0 & 0 & 0\\\\\n",
       "\tW & 0 & 0 & 0 & 0 & 0 & 0 & 0 & 0 & 0 & 0 & ⋯ & 0 & 0 & 0 & 0 & 0 & 0 & 0 & 0 & 0 & 0\\\\\n",
       "\tY & 0 & 0 & 0 & 0 & 0 & 0 & 0 & 0 & 0 & 0 & ⋯ & 0 & 0 & 0 & 0 & 0 & 0 & 0 & 0 & 0 & 0\\\\\n",
       "\\end{tabular}\n"
      ],
      "text/markdown": [
       "\n",
       "A matrix: 21 × 456 of type int\n",
       "\n",
       "| - | 5 | 5 | 5 | 5 | 5 | 5 | 5 | 5 | 5 | 5 | ⋯ | 4 | 4 | 4 | 4 | 4 | 4 | 4 | 5 | 5 | 7 |\n",
       "| A | 0 | 2 | 3 | 1 | 0 | 0 | 0 | 0 | 0 | 1 | ⋯ | 0 | 1 | 0 | 5 | 1 | 1 | 0 | 0 | 0 | 0 |\n",
       "| C | 0 | 0 | 0 | 0 | 0 | 0 | 0 | 0 | 0 | 0 | ⋯ | 0 | 4 | 0 | 0 | 0 | 0 | 0 | 0 | 0 | 0 |\n",
       "| D | 0 | 0 | 0 | 0 | 0 | 0 | 0 | 0 | 0 | 0 | ⋯ | 0 | 0 | 0 | 0 | 0 | 0 | 0 | 0 | 0 | 0 |\n",
       "| E | 0 | 0 | 0 | 0 | 0 | 0 | 4 | 0 | 0 | 0 | ⋯ | 0 | 0 | 0 | 0 | 0 | 0 | 0 | 0 | 0 | 0 |\n",
       "| F | 0 | 0 | 0 | 0 | 0 | 0 | 0 | 0 | 0 | 0 | ⋯ | 0 | 0 | 0 | 0 | 0 | 0 | 0 | 0 | 0 | 0 |\n",
       "| G | 0 | 0 | 0 | 0 | 0 | 0 | 0 | 0 | 2 | 1 | ⋯ | 0 | 0 | 1 | 0 | 0 | 0 | 1 | 0 | 0 | 0 |\n",
       "| H | 0 | 0 | 0 | 0 | 0 | 0 | 0 | 0 | 0 | 0 | ⋯ | 0 | 0 | 1 | 0 | 0 | 0 | 0 | 0 | 0 | 0 |\n",
       "| I | 0 | 0 | 0 | 0 | 0 | 0 | 0 | 0 | 0 | 0 | ⋯ | 0 | 0 | 0 | 0 | 0 | 0 | 0 | 3 | 0 | 0 |\n",
       "| K | 0 | 0 | 0 | 0 | 0 | 0 | 0 | 0 | 0 | 0 | ⋯ | 0 | 0 | 0 | 0 | 0 | 0 | 4 | 0 | 4 | 0 |\n",
       "| L | 0 | 0 | 0 | 1 | 0 | 4 | 0 | 0 | 0 | 0 | ⋯ | 5 | 0 | 0 | 0 | 4 | 0 | 0 | 1 | 0 | 0 |\n",
       "| M | 4 | 0 | 0 | 0 | 0 | 0 | 0 | 0 | 0 | 0 | ⋯ | 0 | 0 | 0 | 0 | 0 | 0 | 0 | 0 | 0 | 0 |\n",
       "| N | 0 | 0 | 0 | 0 | 0 | 0 | 0 | 3 | 0 | 0 | ⋯ | 0 | 0 | 1 | 0 | 0 | 0 | 0 | 0 | 0 | 0 |\n",
       "| P | 0 | 0 | 0 | 0 | 0 | 0 | 0 | 0 | 1 | 0 | ⋯ | 0 | 0 | 0 | 0 | 0 | 0 | 0 | 0 | 0 | 0 |\n",
       "| Q | 0 | 0 | 0 | 0 | 0 | 0 | 0 | 0 | 0 | 0 | ⋯ | 0 | 0 | 0 | 0 | 0 | 4 | 0 | 0 | 0 | 0 |\n",
       "| R | 0 | 0 | 0 | 0 | 0 | 0 | 0 | 0 | 1 | 0 | ⋯ | 0 | 0 | 0 | 0 | 0 | 0 | 0 | 0 | 0 | 0 |\n",
       "| S | 0 | 2 | 0 | 0 | 0 | 0 | 0 | 1 | 0 | 0 | ⋯ | 0 | 0 | 2 | 0 | 0 | 0 | 0 | 0 | 0 | 2 |\n",
       "| T | 0 | 0 | 1 | 0 | 0 | 0 | 0 | 0 | 0 | 0 | ⋯ | 0 | 0 | 0 | 0 | 0 | 0 | 0 | 0 | 0 | 0 |\n",
       "| V | 0 | 0 | 0 | 2 | 4 | 0 | 0 | 0 | 0 | 2 | ⋯ | 0 | 0 | 0 | 0 | 0 | 0 | 0 | 0 | 0 | 0 |\n",
       "| W | 0 | 0 | 0 | 0 | 0 | 0 | 0 | 0 | 0 | 0 | ⋯ | 0 | 0 | 0 | 0 | 0 | 0 | 0 | 0 | 0 | 0 |\n",
       "| Y | 0 | 0 | 0 | 0 | 0 | 0 | 0 | 0 | 0 | 0 | ⋯ | 0 | 0 | 0 | 0 | 0 | 0 | 0 | 0 | 0 | 0 |\n",
       "\n"
      ],
      "text/plain": [
       "  [,1] [,2] [,3] [,4] [,5] [,6] [,7] [,8] [,9] [,10] [,11] [,12] [,13] [,14]\n",
       "- 5    5    5    5    5    5    5    5    5    5     ⋯     4     4     4    \n",
       "A 0    2    3    1    0    0    0    0    0    1     ⋯     0     1     0    \n",
       "C 0    0    0    0    0    0    0    0    0    0     ⋯     0     4     0    \n",
       "D 0    0    0    0    0    0    0    0    0    0     ⋯     0     0     0    \n",
       "E 0    0    0    0    0    0    4    0    0    0     ⋯     0     0     0    \n",
       "F 0    0    0    0    0    0    0    0    0    0     ⋯     0     0     0    \n",
       "G 0    0    0    0    0    0    0    0    2    1     ⋯     0     0     1    \n",
       "H 0    0    0    0    0    0    0    0    0    0     ⋯     0     0     1    \n",
       "I 0    0    0    0    0    0    0    0    0    0     ⋯     0     0     0    \n",
       "K 0    0    0    0    0    0    0    0    0    0     ⋯     0     0     0    \n",
       "L 0    0    0    1    0    4    0    0    0    0     ⋯     5     0     0    \n",
       "M 4    0    0    0    0    0    0    0    0    0     ⋯     0     0     0    \n",
       "N 0    0    0    0    0    0    0    3    0    0     ⋯     0     0     1    \n",
       "P 0    0    0    0    0    0    0    0    1    0     ⋯     0     0     0    \n",
       "Q 0    0    0    0    0    0    0    0    0    0     ⋯     0     0     0    \n",
       "R 0    0    0    0    0    0    0    0    1    0     ⋯     0     0     0    \n",
       "S 0    2    0    0    0    0    0    1    0    0     ⋯     0     0     2    \n",
       "T 0    0    1    0    0    0    0    0    0    0     ⋯     0     0     0    \n",
       "V 0    0    0    2    4    0    0    0    0    2     ⋯     0     0     0    \n",
       "W 0    0    0    0    0    0    0    0    0    0     ⋯     0     0     0    \n",
       "Y 0    0    0    0    0    0    0    0    0    0     ⋯     0     0     0    \n",
       "  [,15] [,16] [,17] [,18] [,19] [,20] [,21]\n",
       "- 4     4     4     4     5     5     7    \n",
       "A 5     1     1     0     0     0     0    \n",
       "C 0     0     0     0     0     0     0    \n",
       "D 0     0     0     0     0     0     0    \n",
       "E 0     0     0     0     0     0     0    \n",
       "F 0     0     0     0     0     0     0    \n",
       "G 0     0     0     1     0     0     0    \n",
       "H 0     0     0     0     0     0     0    \n",
       "I 0     0     0     0     3     0     0    \n",
       "K 0     0     0     4     0     4     0    \n",
       "L 0     4     0     0     1     0     0    \n",
       "M 0     0     0     0     0     0     0    \n",
       "N 0     0     0     0     0     0     0    \n",
       "P 0     0     0     0     0     0     0    \n",
       "Q 0     0     4     0     0     0     0    \n",
       "R 0     0     0     0     0     0     0    \n",
       "S 0     0     0     0     0     0     2    \n",
       "T 0     0     0     0     0     0     0    \n",
       "V 0     0     0     0     0     0     0    \n",
       "W 0     0     0     0     0     0     0    \n",
       "Y 0     0     0     0     0     0     0    "
      ]
     },
     "metadata": {},
     "output_type": "display_data"
    }
   ],
   "source": [
    "conMat"
   ]
  },
  {
   "cell_type": "code",
   "execution_count": 18,
   "metadata": {
    "vscode": {
     "languageId": "r"
    }
   },
   "outputs": [
    {
     "data": {
      "text/html": [
       "<table class=\"dataframe\">\n",
       "<caption>A matrix: 21 × 11 of type int</caption>\n",
       "<tbody>\n",
       "\t<tr><th scope=row>-</th><td>5</td><td>5</td><td>5</td><td>5</td><td>5</td><td>5</td><td>5</td><td>5</td><td>5</td><td>5</td><td>5</td></tr>\n",
       "\t<tr><th scope=row>A</th><td>0</td><td>0</td><td>0</td><td>0</td><td>4</td><td>0</td><td>0</td><td>0</td><td>0</td><td>0</td><td>0</td></tr>\n",
       "\t<tr><th scope=row>C</th><td>0</td><td>0</td><td>0</td><td>0</td><td>0</td><td>0</td><td>0</td><td>0</td><td>0</td><td>0</td><td>0</td></tr>\n",
       "\t<tr><th scope=row>D</th><td>0</td><td>4</td><td>0</td><td>0</td><td>0</td><td>0</td><td>0</td><td>0</td><td>0</td><td>0</td><td>0</td></tr>\n",
       "\t<tr><th scope=row>E</th><td>0</td><td>0</td><td>0</td><td>0</td><td>0</td><td>0</td><td>0</td><td>0</td><td>4</td><td>0</td><td>0</td></tr>\n",
       "\t<tr><th scope=row>F</th><td>0</td><td>0</td><td>0</td><td>0</td><td>0</td><td>0</td><td>0</td><td>0</td><td>0</td><td>0</td><td>0</td></tr>\n",
       "\t<tr><th scope=row>G</th><td>0</td><td>0</td><td>0</td><td>4</td><td>0</td><td>0</td><td>0</td><td>0</td><td>0</td><td>0</td><td>0</td></tr>\n",
       "\t<tr><th scope=row>H</th><td>2</td><td>0</td><td>0</td><td>0</td><td>0</td><td>0</td><td>0</td><td>4</td><td>0</td><td>0</td><td>0</td></tr>\n",
       "\t<tr><th scope=row>I</th><td>0</td><td>0</td><td>4</td><td>0</td><td>0</td><td>0</td><td>0</td><td>0</td><td>0</td><td>0</td><td>0</td></tr>\n",
       "\t<tr><th scope=row>K</th><td>0</td><td>0</td><td>0</td><td>0</td><td>0</td><td>0</td><td>0</td><td>0</td><td>0</td><td>0</td><td>0</td></tr>\n",
       "\t<tr><th scope=row>L</th><td>0</td><td>0</td><td>0</td><td>0</td><td>0</td><td>0</td><td>0</td><td>0</td><td>0</td><td>4</td><td>0</td></tr>\n",
       "\t<tr><th scope=row>M</th><td>0</td><td>0</td><td>0</td><td>0</td><td>0</td><td>0</td><td>0</td><td>0</td><td>0</td><td>0</td><td>0</td></tr>\n",
       "\t<tr><th scope=row>N</th><td>2</td><td>0</td><td>0</td><td>0</td><td>0</td><td>0</td><td>0</td><td>0</td><td>0</td><td>0</td><td>0</td></tr>\n",
       "\t<tr><th scope=row>P</th><td>0</td><td>0</td><td>0</td><td>0</td><td>0</td><td>0</td><td>0</td><td>0</td><td>0</td><td>0</td><td>0</td></tr>\n",
       "\t<tr><th scope=row>Q</th><td>0</td><td>0</td><td>0</td><td>0</td><td>0</td><td>0</td><td>0</td><td>0</td><td>0</td><td>0</td><td>0</td></tr>\n",
       "\t<tr><th scope=row>R</th><td>0</td><td>0</td><td>0</td><td>0</td><td>0</td><td>0</td><td>0</td><td>0</td><td>0</td><td>0</td><td>0</td></tr>\n",
       "\t<tr><th scope=row>S</th><td>0</td><td>0</td><td>0</td><td>0</td><td>0</td><td>0</td><td>0</td><td>0</td><td>0</td><td>0</td><td>4</td></tr>\n",
       "\t<tr><th scope=row>T</th><td>0</td><td>0</td><td>0</td><td>0</td><td>0</td><td>4</td><td>0</td><td>0</td><td>0</td><td>0</td><td>0</td></tr>\n",
       "\t<tr><th scope=row>V</th><td>0</td><td>0</td><td>0</td><td>0</td><td>0</td><td>0</td><td>4</td><td>0</td><td>0</td><td>0</td><td>0</td></tr>\n",
       "\t<tr><th scope=row>W</th><td>0</td><td>0</td><td>0</td><td>0</td><td>0</td><td>0</td><td>0</td><td>0</td><td>0</td><td>0</td><td>0</td></tr>\n",
       "\t<tr><th scope=row>Y</th><td>0</td><td>0</td><td>0</td><td>0</td><td>0</td><td>0</td><td>0</td><td>0</td><td>0</td><td>0</td><td>0</td></tr>\n",
       "</tbody>\n",
       "</table>\n"
      ],
      "text/latex": [
       "A matrix: 21 × 11 of type int\n",
       "\\begin{tabular}{r|lllllllllll}\n",
       "\t- & 5 & 5 & 5 & 5 & 5 & 5 & 5 & 5 & 5 & 5 & 5\\\\\n",
       "\tA & 0 & 0 & 0 & 0 & 4 & 0 & 0 & 0 & 0 & 0 & 0\\\\\n",
       "\tC & 0 & 0 & 0 & 0 & 0 & 0 & 0 & 0 & 0 & 0 & 0\\\\\n",
       "\tD & 0 & 4 & 0 & 0 & 0 & 0 & 0 & 0 & 0 & 0 & 0\\\\\n",
       "\tE & 0 & 0 & 0 & 0 & 0 & 0 & 0 & 0 & 4 & 0 & 0\\\\\n",
       "\tF & 0 & 0 & 0 & 0 & 0 & 0 & 0 & 0 & 0 & 0 & 0\\\\\n",
       "\tG & 0 & 0 & 0 & 4 & 0 & 0 & 0 & 0 & 0 & 0 & 0\\\\\n",
       "\tH & 2 & 0 & 0 & 0 & 0 & 0 & 0 & 4 & 0 & 0 & 0\\\\\n",
       "\tI & 0 & 0 & 4 & 0 & 0 & 0 & 0 & 0 & 0 & 0 & 0\\\\\n",
       "\tK & 0 & 0 & 0 & 0 & 0 & 0 & 0 & 0 & 0 & 0 & 0\\\\\n",
       "\tL & 0 & 0 & 0 & 0 & 0 & 0 & 0 & 0 & 0 & 4 & 0\\\\\n",
       "\tM & 0 & 0 & 0 & 0 & 0 & 0 & 0 & 0 & 0 & 0 & 0\\\\\n",
       "\tN & 2 & 0 & 0 & 0 & 0 & 0 & 0 & 0 & 0 & 0 & 0\\\\\n",
       "\tP & 0 & 0 & 0 & 0 & 0 & 0 & 0 & 0 & 0 & 0 & 0\\\\\n",
       "\tQ & 0 & 0 & 0 & 0 & 0 & 0 & 0 & 0 & 0 & 0 & 0\\\\\n",
       "\tR & 0 & 0 & 0 & 0 & 0 & 0 & 0 & 0 & 0 & 0 & 0\\\\\n",
       "\tS & 0 & 0 & 0 & 0 & 0 & 0 & 0 & 0 & 0 & 0 & 4\\\\\n",
       "\tT & 0 & 0 & 0 & 0 & 0 & 4 & 0 & 0 & 0 & 0 & 0\\\\\n",
       "\tV & 0 & 0 & 0 & 0 & 0 & 0 & 4 & 0 & 0 & 0 & 0\\\\\n",
       "\tW & 0 & 0 & 0 & 0 & 0 & 0 & 0 & 0 & 0 & 0 & 0\\\\\n",
       "\tY & 0 & 0 & 0 & 0 & 0 & 0 & 0 & 0 & 0 & 0 & 0\\\\\n",
       "\\end{tabular}\n"
      ],
      "text/markdown": [
       "\n",
       "A matrix: 21 × 11 of type int\n",
       "\n",
       "| - | 5 | 5 | 5 | 5 | 5 | 5 | 5 | 5 | 5 | 5 | 5 |\n",
       "| A | 0 | 0 | 0 | 0 | 4 | 0 | 0 | 0 | 0 | 0 | 0 |\n",
       "| C | 0 | 0 | 0 | 0 | 0 | 0 | 0 | 0 | 0 | 0 | 0 |\n",
       "| D | 0 | 4 | 0 | 0 | 0 | 0 | 0 | 0 | 0 | 0 | 0 |\n",
       "| E | 0 | 0 | 0 | 0 | 0 | 0 | 0 | 0 | 4 | 0 | 0 |\n",
       "| F | 0 | 0 | 0 | 0 | 0 | 0 | 0 | 0 | 0 | 0 | 0 |\n",
       "| G | 0 | 0 | 0 | 4 | 0 | 0 | 0 | 0 | 0 | 0 | 0 |\n",
       "| H | 2 | 0 | 0 | 0 | 0 | 0 | 0 | 4 | 0 | 0 | 0 |\n",
       "| I | 0 | 0 | 4 | 0 | 0 | 0 | 0 | 0 | 0 | 0 | 0 |\n",
       "| K | 0 | 0 | 0 | 0 | 0 | 0 | 0 | 0 | 0 | 0 | 0 |\n",
       "| L | 0 | 0 | 0 | 0 | 0 | 0 | 0 | 0 | 0 | 4 | 0 |\n",
       "| M | 0 | 0 | 0 | 0 | 0 | 0 | 0 | 0 | 0 | 0 | 0 |\n",
       "| N | 2 | 0 | 0 | 0 | 0 | 0 | 0 | 0 | 0 | 0 | 0 |\n",
       "| P | 0 | 0 | 0 | 0 | 0 | 0 | 0 | 0 | 0 | 0 | 0 |\n",
       "| Q | 0 | 0 | 0 | 0 | 0 | 0 | 0 | 0 | 0 | 0 | 0 |\n",
       "| R | 0 | 0 | 0 | 0 | 0 | 0 | 0 | 0 | 0 | 0 | 0 |\n",
       "| S | 0 | 0 | 0 | 0 | 0 | 0 | 0 | 0 | 0 | 0 | 4 |\n",
       "| T | 0 | 0 | 0 | 0 | 0 | 4 | 0 | 0 | 0 | 0 | 0 |\n",
       "| V | 0 | 0 | 0 | 0 | 0 | 0 | 4 | 0 | 0 | 0 | 0 |\n",
       "| W | 0 | 0 | 0 | 0 | 0 | 0 | 0 | 0 | 0 | 0 | 0 |\n",
       "| Y | 0 | 0 | 0 | 0 | 0 | 0 | 0 | 0 | 0 | 0 | 0 |\n",
       "\n"
      ],
      "text/plain": [
       "  [,1] [,2] [,3] [,4] [,5] [,6] [,7] [,8] [,9] [,10] [,11]\n",
       "- 5    5    5    5    5    5    5    5    5    5     5    \n",
       "A 0    0    0    0    4    0    0    0    0    0     0    \n",
       "C 0    0    0    0    0    0    0    0    0    0     0    \n",
       "D 0    4    0    0    0    0    0    0    0    0     0    \n",
       "E 0    0    0    0    0    0    0    0    4    0     0    \n",
       "F 0    0    0    0    0    0    0    0    0    0     0    \n",
       "G 0    0    0    4    0    0    0    0    0    0     0    \n",
       "H 2    0    0    0    0    0    0    4    0    0     0    \n",
       "I 0    0    4    0    0    0    0    0    0    0     0    \n",
       "K 0    0    0    0    0    0    0    0    0    0     0    \n",
       "L 0    0    0    0    0    0    0    0    0    4     0    \n",
       "M 0    0    0    0    0    0    0    0    0    0     0    \n",
       "N 2    0    0    0    0    0    0    0    0    0     0    \n",
       "P 0    0    0    0    0    0    0    0    0    0     0    \n",
       "Q 0    0    0    0    0    0    0    0    0    0     0    \n",
       "R 0    0    0    0    0    0    0    0    0    0     0    \n",
       "S 0    0    0    0    0    0    0    0    0    0     4    \n",
       "T 0    0    0    0    0    4    0    0    0    0     0    \n",
       "V 0    0    0    0    0    0    4    0    0    0     0    \n",
       "W 0    0    0    0    0    0    0    0    0    0     0    \n",
       "Y 0    0    0    0    0    0    0    0    0    0     0    "
      ]
     },
     "metadata": {},
     "output_type": "display_data"
    }
   ],
   "source": [
    "conMat[,100:110]"
   ]
  },
  {
   "cell_type": "code",
   "execution_count": null,
   "metadata": {
    "vscode": {
     "languageId": "r"
    }
   },
   "outputs": [],
   "source": [
    "data(BLOSUM62)\n",
    "print(msaConservationScore(myFirstAlignment,BLOSUM62))"
   ]
  },
  {
   "cell_type": "code",
   "execution_count": 23,
   "metadata": {
    "vscode": {
     "languageId": "r"
    }
   },
   "outputs": [
    {
     "name": "stdout",
     "output_type": "stream",
     "text": [
      "use default substitution matrix\n"
     ]
    },
    {
     "data": {
      "text/plain": [
       "CLUSTAL 2.1  \n",
       "\n",
       "Call:\n",
       "   msa(hemoSeq)\n",
       "\n",
       "MsaAAMultipleAlignment with 17 rows and 143 columns\n",
       "     aln                                                   names\n",
       " [1] -VLSPADKTNVKAAWGKVGAHAGEY...FTPAVHASLDKFLASVSTVLTSKYR HBA1_Homo_sapiens\n",
       " [2] MVLSPADKTNVKAAWGKVGAHAGEY...FTPAVHASLDKFLASVSTVLTSKYR HBA1_Pan_troglodytes\n",
       " [3] -VLSPADKSNVKAAWGKVGGHAGEY...FTPAVHASLDKFLASVSTVLTSKYR HBA1_Macaca_mulatta\n",
       " [4] -VLSAADKGNVKAAWGKVGGHAAEY...FTPAVHASLDKFLANVSTVLTSKYR HBA1_Bos_taurus\n",
       " [5] -VLSPADKTNVKGTWSKIGNHSAEY...FTPSVHASLDKFLASVSTVLTSKYR HBA1_Tursiops_tru...\n",
       " [6] -VLSGEDKSNIKAAWGKIGGHGAEY...FTPAVHASLDKFLASVSTVLTSKYR HBA1_Mus_musculus\n",
       " [7] MVLSADDKTNIKNCWGKIGGHGGEY...FTPAMHASLDKFLASVSTVLTSKYR HBA1_Rattus_norve...\n",
       " [8] -VLSATDKANVKTFWGKLGGHGGEY...FTPAVHASLDKFLATVATVLTSKYR HBA1_Erinaceus_eu...\n",
       " [9] -VLSAADKSNVKACWGKIGSHAGEY...FTPAVHASLDKFFSAVSTVLTSKYR HBA1_Felis_silves...\n",
       "[10] -VLSPADKTNIKSTWDKIGGHAGDY...FTPAVHASLDKFFTAVSTVLTSKYR HBA1_Chrysocyon_b...\n",
       "[11] -VLSDNDKTNVKATWSKVGDHASDY...FTPEVHASLDKFLSNVSTVLTSKYR HBA1_Loxodonta_af...\n",
       "[12] -VLSAADKTNVKAAWSKVGGNSGAY...FTPEIHASLDKFLALLSTVLTSKYR HBA1_Monodelphis_...\n",
       "[13] -MLTDAEKKEVTALWGKAAGHGEEY...FTPSAHAAMDKFLSKVATVLTSKYR HBA1_Ornithorhync...\n",
       "[14] -VLSAADKNNVKGIFTKIAGHAEEY...LTPEVHASLDKFLCAVGTVLTAKYR HBA1_Gallus_gallus\n",
       "[15] -HLTADDKKHIKAIWPSVAAHGDKY...FDPATHKALDKFLVSVSNVLTSKYR HBA1_Xenopus_trop...\n",
       "[16] -VLTEEDKARVRVAWVPVSKNAELY...LKPEVLLSVDKFLGQISKVLASRYR HBA1_Microcephalo...\n",
       "[17] -SLSDTDKAVVKAIWAKISPKADEI...FTPEVHVSVDKFFNNLALALSEKYR HBA1_Danio_rerio\n",
       " Con -VLS?ADK?NVKA?WGK?GGHA?EY...FTPAVHASLDKFLA?VSTVLTSKYR Consensus "
      ]
     },
     "metadata": {},
     "output_type": "display_data"
    }
   ],
   "source": [
    "hemoSeq <- readAAStringSet(\"C:\\\\Users\\\\ozgur\\\\Desktop\\\\yazılım\\\\VSCode\\\\HemoglobinAA (1).fasta\")\n",
    "hemoAlignment <- msa(hemoSeq)\n",
    "hemoAlignment"
   ]
  },
  {
   "cell_type": "code",
   "execution_count": 24,
   "metadata": {
    "vscode": {
     "languageId": "r"
    }
   },
   "outputs": [],
   "source": [
    "hemoAlignmentv2 <- msaConvert(hemoAlignment, type=\"seqinr::alignment\")"
   ]
  },
  {
   "cell_type": "code",
   "execution_count": 27,
   "metadata": {
    "vscode": {
     "languageId": "r"
    }
   },
   "outputs": [
    {
     "data": {
      "text/html": [
       "<table class=\"dataframe\">\n",
       "<caption>A matrix: 4 × 1 of type dbl</caption>\n",
       "<thead>\n",
       "\t<tr><th></th><th scope=col>HBA1_Homo_sapiens</th></tr>\n",
       "</thead>\n",
       "<tbody>\n",
       "\t<tr><th scope=row>HBA1_Pan_troglodytes</th><td>0.0000000</td></tr>\n",
       "\t<tr><th scope=row>HBA1_Macaca_mulatta</th><td>0.1684304</td></tr>\n",
       "\t<tr><th scope=row>HBA1_Bos_taurus</th><td>0.3472281</td></tr>\n",
       "\t<tr><th scope=row>HBA1_Tursiops_truncatus</th><td>0.4038819</td></tr>\n",
       "</tbody>\n",
       "</table>\n"
      ],
      "text/latex": [
       "A matrix: 4 × 1 of type dbl\n",
       "\\begin{tabular}{r|l}\n",
       "  & HBA1\\_Homo\\_sapiens\\\\\n",
       "\\hline\n",
       "\tHBA1\\_Pan\\_troglodytes & 0.0000000\\\\\n",
       "\tHBA1\\_Macaca\\_mulatta & 0.1684304\\\\\n",
       "\tHBA1\\_Bos\\_taurus & 0.3472281\\\\\n",
       "\tHBA1\\_Tursiops\\_truncatus & 0.4038819\\\\\n",
       "\\end{tabular}\n"
      ],
      "text/markdown": [
       "\n",
       "A matrix: 4 × 1 of type dbl\n",
       "\n",
       "| <!--/--> | HBA1_Homo_sapiens |\n",
       "|---|---|\n",
       "| HBA1_Pan_troglodytes | 0.0000000 |\n",
       "| HBA1_Macaca_mulatta | 0.1684304 |\n",
       "| HBA1_Bos_taurus | 0.3472281 |\n",
       "| HBA1_Tursiops_truncatus | 0.4038819 |\n",
       "\n"
      ],
      "text/plain": [
       "                        HBA1_Homo_sapiens\n",
       "HBA1_Pan_troglodytes    0.0000000        \n",
       "HBA1_Macaca_mulatta     0.1684304        \n",
       "HBA1_Bos_taurus         0.3472281        \n",
       "HBA1_Tursiops_truncatus 0.4038819        "
      ]
     },
     "metadata": {},
     "output_type": "display_data"
    }
   ],
   "source": [
    "#suppressPackageStartupMessages(library(seqinr))\n",
    "#d <- dist.alignment(hemoAlignmentv2, \"identity\")\n",
    "#as.matrix(d)[2:5, \"HBA1_Homo_sapiens\", drop=FALSE]"
   ]
  },
  {
   "cell_type": "code",
   "execution_count": 31,
   "metadata": {
    "vscode": {
     "languageId": "r"
    }
   },
   "outputs": [
    {
     "data": {
      "image/png": "[encoded data removed]",
      "text/plain": [
       "Plot with title \"Phylogenetic Tree of Hemoglobin Alpha Sequences\""
      ]
     },
     "metadata": {
      "image/png": {
       "height": 420,
       "width": 420
      }
     },
     "output_type": "display_data"
    }
   ],
   "source": [
    "suppressPackageStartupMessages(library(ape))\n",
    "hemoTree <- nj(d)\n",
    "plot(hemoTree, main=\"Phylogenetic Tree of Hemoglobin Alpha Sequences\")"
   ]
  },
  {
   "cell_type": "code",
   "execution_count": null,
   "metadata": {
    "vscode": {
     "languageId": "r"
    }
   },
   "outputs": [],
   "source": []
  }
 ],
 "metadata": {
  "kernelspec": {
   "display_name": "R",
   "language": "R",
   "name": "ir"
  },
  "language_info": {
   "codemirror_mode": "r",
   "file_extension": ".r",
   "mimetype": "text/x-r-source",
   "name": "R",
   "pygments_lexer": "r",
   "version": "4.2.2"
  },
  "orig_nbformat": 4
 },
 "nbformat": 4,
 "nbformat_minor": 2
}
